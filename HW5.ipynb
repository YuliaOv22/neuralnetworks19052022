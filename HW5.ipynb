{
  "cells": [
    {
      "cell_type": "markdown",
      "metadata": {
        "id": "grWCtrSjTt-_"
      },
      "source": [
        "# **Практическое задание**"
      ]
    },
    {
      "cell_type": "markdown",
      "metadata": {
        "id": "xP23YIB_l-Bh"
      },
      "source": [
        "1. Попробуйте изменить параметры нейронной сети, работающей с датасетом imdb, либо\n",
        "нейронной сети, работающей airline-passengers (она прилагается вместе с датасетом к\n",
        "уроку в виде отдельного скрипта) так, чтобы улучшить её точность. Приложите анализ\n",
        "2. Попробуйте изменить параметры нейронной сети, генерирующей текст таким образом,\n",
        "чтобы добиться генерации как можно более осмысленного текста. Пришлите лучший\n",
        "текст из получившихся и опишите предпринятые для его получения действия. Можно\n",
        "использовать текст другого произведения\n",
        "3. *Попробуйте реализовать нейронную сеть архитектуры LSTM на numpy\n",
        "4. *Предложите свои варианты решения проблемы исчезающего градиента в RNN"
      ]
    },
    {
      "cell_type": "code",
      "execution_count": 204,
      "metadata": {
        "id": "UuC1Hvdblev4"
      },
      "outputs": [],
      "source": [
        "import numpy as np\n",
        "import tensorflow as tf\n",
        "import random as rn\n",
        "from __future__ import print_function\n",
        "from tensorflow.keras.preprocessing import sequence\n",
        "from tensorflow.keras.models import Sequential\n",
        "from tensorflow.keras.layers import Dense, Embedding, Dropout\n",
        "from tensorflow.keras.layers import LSTM\n",
        "from tensorflow.keras.datasets import imdb"
      ]
    },
    {
      "cell_type": "code",
      "execution_count": 205,
      "metadata": {
        "colab": {
          "base_uri": "https://localhost:8080/"
        },
        "id": "jX6tGkQclewD",
        "outputId": "d475bfaa-f777-496a-84f3-54cd11b820bc"
      },
      "outputs": [
        {
          "output_type": "execute_result",
          "data": {
            "text/plain": [
              "True"
            ]
          },
          "metadata": {},
          "execution_count": 205
        }
      ],
      "source": [
        "tf.test.is_built_with_cuda()"
      ]
    },
    {
      "cell_type": "code",
      "execution_count": 206,
      "metadata": {
        "colab": {
          "base_uri": "https://localhost:8080/"
        },
        "id": "ooAkvabllewG",
        "outputId": "38308f59-0927-4864-eb38-73dce7d5c58f"
      },
      "outputs": [
        {
          "output_type": "execute_result",
          "data": {
            "text/plain": [
              "[]"
            ]
          },
          "metadata": {},
          "execution_count": 206
        }
      ],
      "source": [
        "tf.config.list_physical_devices('GPU')"
      ]
    },
    {
      "cell_type": "code",
      "execution_count": 207,
      "metadata": {
        "id": "39RVM4hj3Wje"
      },
      "outputs": [],
      "source": [
        "# Вспомогательные функции\n",
        "\n",
        "# Фиксирование случайных значений\n",
        "def randomstate(seed=42):\n",
        "  np.random.seed(seed)\n",
        "  tf.random.set_seed(seed)\n",
        "  rn.seed(seed)"
      ]
    },
    {
      "cell_type": "markdown",
      "metadata": {
        "id": "xiq0R-hnCu7j"
      },
      "source": [
        "# **IMDB отзывы**"
      ]
    },
    {
      "cell_type": "code",
      "execution_count": 208,
      "metadata": {
        "id": "2OjBlxbTC3Nx"
      },
      "outputs": [],
      "source": [
        "max_features = 20000\n",
        "\n",
        "# обрезание текстов после данного количества слов (среди top max_features наиболее используемые слова)\n",
        "maxlen = 150\n",
        "batch_size = 100 # увеличьте значение для ускорения обучения"
      ]
    },
    {
      "cell_type": "code",
      "execution_count": 209,
      "metadata": {
        "colab": {
          "base_uri": "https://localhost:8080/"
        },
        "id": "2qU_kiLbC2jK",
        "outputId": "2b7cb64e-3041-4ff2-d913-4c791c0f91b6"
      },
      "outputs": [
        {
          "output_type": "stream",
          "name": "stdout",
          "text": [
            "Загрузка данных...\n"
          ]
        }
      ],
      "source": [
        "print('Загрузка данных...')\n",
        "(x_train, y_train), (x_test, y_test) = imdb.load_data(num_words=max_features)"
      ]
    },
    {
      "cell_type": "code",
      "execution_count": 210,
      "metadata": {
        "id": "_b280v4nlewe"
      },
      "outputs": [],
      "source": [
        "# x_train[0]"
      ]
    },
    {
      "cell_type": "code",
      "execution_count": 211,
      "metadata": {
        "id": "v-41yrEFlewf"
      },
      "outputs": [],
      "source": [
        "# словарь сопоставления слово-индекс\n",
        "word_index = imdb.get_word_index()\n",
        "\n",
        "# словарь сопоставления индекс-слово\n",
        "inverted_word_index = dict((i, word) for (word, i) in word_index.items())\n",
        "\n",
        "# декодирование текста первого элемента датасета\n",
        "decoded_sequence = \" \".join(inverted_word_index[i] for i in x_train[0])"
      ]
    },
    {
      "cell_type": "code",
      "execution_count": 212,
      "metadata": {
        "id": "L8UNHNg2lewg"
      },
      "outputs": [],
      "source": [
        "# decoded_sequence"
      ]
    },
    {
      "cell_type": "code",
      "execution_count": 213,
      "metadata": {
        "colab": {
          "base_uri": "https://localhost:8080/"
        },
        "id": "MtJSwOPDC7__",
        "outputId": "df4266ab-b53e-4039-a88a-4bd55daca736"
      },
      "outputs": [
        {
          "output_type": "stream",
          "name": "stdout",
          "text": [
            "25000 тренировочные последовательности\n",
            "25000 тестовые последовательности\n"
          ]
        }
      ],
      "source": [
        "print(len(x_train), 'тренировочные последовательности')\n",
        "print(len(x_test), 'тестовые последовательности')"
      ]
    },
    {
      "cell_type": "code",
      "execution_count": 214,
      "metadata": {
        "colab": {
          "base_uri": "https://localhost:8080/"
        },
        "id": "f-z0-a_pFCwE",
        "outputId": "3b0b6f83-89a6-4348-cda7-be7881cf3824"
      },
      "outputs": [
        {
          "output_type": "execute_result",
          "data": {
            "text/plain": [
              "218"
            ]
          },
          "metadata": {},
          "execution_count": 214
        }
      ],
      "source": [
        "len(x_train[0])"
      ]
    },
    {
      "cell_type": "code",
      "execution_count": 215,
      "metadata": {
        "colab": {
          "base_uri": "https://localhost:8080/"
        },
        "id": "CGAsy1MFDEVZ",
        "outputId": "293fcf20-89d8-438a-9c47-eb4fffcd6b43"
      },
      "outputs": [
        {
          "output_type": "stream",
          "name": "stdout",
          "text": [
            "x_train shape: (25000, 150)\n",
            "x_test shape: (25000, 150)\n"
          ]
        }
      ],
      "source": [
        "# обрезаем текст до maxlen\n",
        "x_train = sequence.pad_sequences(x_train, maxlen=maxlen)\n",
        "x_test = sequence.pad_sequences(x_test, maxlen=maxlen)\n",
        "print('x_train shape:', x_train.shape)\n",
        "print('x_test shape:', x_test.shape)"
      ]
    },
    {
      "cell_type": "code",
      "execution_count": 216,
      "metadata": {
        "colab": {
          "base_uri": "https://localhost:8080/"
        },
        "id": "a_BSI_WFlewj",
        "outputId": "94ace1e5-2925-4412-d8e0-c2cfc761bdfe"
      },
      "outputs": [
        {
          "output_type": "execute_result",
          "data": {
            "text/plain": [
              "20000"
            ]
          },
          "metadata": {},
          "execution_count": 216
        }
      ],
      "source": [
        "max_features"
      ]
    },
    {
      "cell_type": "code",
      "execution_count": 217,
      "metadata": {
        "id": "s4YPiv4OFQJX"
      },
      "outputs": [],
      "source": [
        "# создаем 20000 уникальных векторов для каждого слова размером 128\n",
        "layer = Embedding(max_features, 128)"
      ]
    },
    {
      "cell_type": "code",
      "execution_count": 218,
      "metadata": {
        "colab": {
          "base_uri": "https://localhost:8080/"
        },
        "id": "e9AmlPFXyIg1",
        "outputId": "e34eb5ba-71b8-48a1-873e-a5eec5e11bf3"
      },
      "outputs": [
        {
          "output_type": "execute_result",
          "data": {
            "text/plain": [
              "TensorShape([150, 128])"
            ]
          },
          "metadata": {},
          "execution_count": 218
        }
      ],
      "source": [
        "layer(x_train[0]).shape"
      ]
    },
    {
      "cell_type": "code",
      "execution_count": 219,
      "metadata": {
        "id": "SuCf2ixNDJ8m",
        "colab": {
          "base_uri": "https://localhost:8080/"
        },
        "outputId": "d7c73056-39e1-4113-bee8-7a44defb9ace"
      },
      "outputs": [
        {
          "output_type": "stream",
          "name": "stdout",
          "text": [
            "Построение модели...\n"
          ]
        }
      ],
      "source": [
        "print('Построение модели...')\n",
        "randomstate()\n",
        "model = Sequential()\n",
        "model.add(Embedding(max_features, 128))\n",
        "model.add(LSTM(70, dropout=0.2, recurrent_dropout=0.2))\n",
        "model.add(Dense(128, activation='tanh'))\n",
        "model.add(Dense(1, activation='sigmoid'))\n",
        "\n",
        "model.compile(loss='binary_crossentropy',\n",
        "              optimizer='adam',\n",
        "              metrics=['accuracy'])"
      ]
    },
    {
      "cell_type": "code",
      "execution_count": 220,
      "metadata": {
        "colab": {
          "base_uri": "https://localhost:8080/"
        },
        "id": "STDbV391GfDO",
        "outputId": "5fd99a76-a31d-4c08-b7b3-a6e389f634bc"
      },
      "outputs": [
        {
          "output_type": "stream",
          "name": "stdout",
          "text": [
            "Процесс обучения...\n",
            "250/250 [==============================] - 142s 557ms/step - loss: 0.4011 - accuracy: 0.8046 - val_loss: 0.3089 - val_accuracy: 0.8686\n"
          ]
        },
        {
          "output_type": "execute_result",
          "data": {
            "text/plain": [
              "<keras.callbacks.History at 0x7f9e9b98a0d0>"
            ]
          },
          "metadata": {},
          "execution_count": 220
        }
      ],
      "source": [
        "print('Процесс обучения...')\n",
        "model.fit(x_train, y_train,\n",
        "          batch_size=batch_size,\n",
        "          epochs=1, # при увеличении наблюдается переобучение\n",
        "          validation_data=(x_test, y_test))\n",
        "\n",
        "# начальная точность на трейне\n",
        "# 500/500 [==============================] - 87s 171ms/step - loss: 0.4324 - accuracy: 0.7956 - val_loss: 0.3570 - val_accuracy: 0.8422"
      ]
    },
    {
      "cell_type": "code",
      "execution_count": 221,
      "metadata": {
        "id": "09mnjJl0GlB7",
        "colab": {
          "base_uri": "https://localhost:8080/"
        },
        "outputId": "f49c95d6-a964-412b-be6e-bcbc7753167a"
      },
      "outputs": [
        {
          "output_type": "stream",
          "name": "stdout",
          "text": [
            "250/250 [==============================] - 20s 80ms/step - loss: 0.3089 - accuracy: 0.8686\n"
          ]
        }
      ],
      "source": [
        "score, acc = model.evaluate(x_test, y_test,\n",
        "                            batch_size=batch_size)\n",
        "\n",
        "# начальная точность на тесте\n",
        "# 500/500 [==============================] - 13s 25ms/step - loss: 0.3570 - accuracy: 0.8422"
      ]
    },
    {
      "cell_type": "code",
      "execution_count": 222,
      "metadata": {
        "id": "DY6eThlJGnIs",
        "colab": {
          "base_uri": "https://localhost:8080/"
        },
        "outputId": "2f38d04a-84ad-4e43-dabd-027cd518b3bf"
      },
      "outputs": [
        {
          "output_type": "stream",
          "name": "stdout",
          "text": [
            "Результат при тестировании: 0.3089107275009155\n",
            "Тестовая точность: 0.8685600161552429\n"
          ]
        }
      ],
      "source": [
        "print('Результат при тестировании:', score)\n",
        "print('Тестовая точность:', acc)"
      ]
    },
    {
      "cell_type": "markdown",
      "metadata": {
        "id": "bBEW440lrqy9"
      },
      "source": [
        "### **Вывод:**\n",
        "\n",
        "**Accuracy начальной модели:**\n",
        "  - на трейне <font color='red'>**0.7956**</font>\n",
        "  - на тесте <font color='red'>**0.8422**</font>\n",
        "---\n",
        " 1. Увеличим количество слов из датасета: max_features = 30000.\n",
        "  \n",
        "  **Accuracy:**\n",
        "  - на трейне **0.7922**\n",
        "  - на тесте **0.8383**\n",
        "\n",
        " Точность снизилась.\n",
        "---\n",
        " 2. Уменьшим количество слов из датасета: max_features = 15000.\n",
        "  \n",
        "  **Accuracy:**\n",
        "  - на трейне **0.7917**\n",
        "  - на тесте **0.8411**\n",
        "  \n",
        "  Точность снизилась.\n",
        "---\n",
        " 3. Увеличим количество слов до отсечения: maxlen = 150.\n",
        "  \n",
        "  **Accuracy:**\n",
        "  - на трейне **0.8034**\n",
        "  - на тесте **0.8610**\n",
        "  \n",
        "  Точность увеличилась.\n",
        "---\n",
        " 4. Увеличим размер батча: batch_size = 50.\n",
        "  \n",
        "  **Accuracy:**\n",
        "  - на трейне **0.7951**\n",
        "  - на тесте **0.8678**\n",
        "  \n",
        "  Точность на трейне снизилась, на тесте увеличилась.\n",
        "\n",
        "---\n",
        " 5. Увеличим размер внутреннего состояния: LSTM(200).\n",
        "  \n",
        "  **Accuracy:**\n",
        "  - на трейне **0.7904**\n",
        "  - на тесте **0.8450**\n",
        "  \n",
        "  Точность на трейне снизилась, на тесте увеличилась.\n",
        "---\n",
        " 6. Уменьшим дропауты: LSTM(dropout=0.1, recurrent_dropout=0.1).\n",
        "  \n",
        "  **Accuracy:**\n",
        "  - на трейне **0.7933**\n",
        "  - на тесте **0.8368**\n",
        "  \n",
        "  Точность снизилась.\n",
        "---\n",
        " 7. Увеличим дропауты: LSTM(dropout=0.3, recurrent_dropout=0.3).\n",
        "  \n",
        "  **Accuracy:**\n",
        "  - на трейне **0.7889**\n",
        "  - на тесте **0.8381**\n",
        "  \n",
        "  Точность снизилась.\n",
        "---\n",
        " 8. Добавим еще полносвязный слой со следующими параметрами:\n",
        "\n",
        " - model.add(Dense(256, activation='tanh'))\n",
        "  \n",
        "  **Accuracy:**\n",
        "  - на трейне **0.7972**\n",
        "  - на тесте **0.8402**\n",
        "  \n",
        "  Точность на трейне увеличилась, на тесте снизилась.\n",
        "\n",
        "\n",
        "**Accuracy финальной модели:**\n",
        "  - на трейне <font color='lightseagreen'>**0.8046**</font>\n",
        "  - на тесте <font color='lightseagreen'>**0.8686**</font>\n",
        "\n",
        "Некоторые наблюдения:\n",
        " - Точность повышается при увеличении таких параметров как: maxlen, batch_size.\n",
        " - Модель довольно быстро переобучается, одной эпохи достаточно.\n",
        " - Регулирование таких параметров как: max_features, dropout, - не привело к увеличению точности.\n",
        " - Также были испробованы разные функции активации, добавление полносвязных слоев, изменение количества нейронов, изменение размерности веторов и др.\n",
        " - Итоговая модель выглядит следующим образом:\n",
        "  - model = Sequential()\n",
        "  - model = Sequential()\n",
        "  - model.add(Embedding(max_features, 128))\n",
        "  - model.add(LSTM(70, dropout=0.2, recurrent_dropout=0.2))\n",
        "  - model.add(Dense(128, activation='tanh'))\n",
        "  - model.add(Dense(1, activation='sigmoid'))\n",
        "  - maxlen = 150\n",
        "  - batch_size = 100"
      ]
    },
    {
      "cell_type": "markdown",
      "metadata": {
        "id": "2xLGyQjYG3eq"
      },
      "source": [
        "# **Генерация текста на основе книжки «Мы» Евгения Замятина**"
      ]
    },
    {
      "cell_type": "code",
      "execution_count": 223,
      "metadata": {
        "id": "99v6TBSqHBjU"
      },
      "outputs": [],
      "source": [
        "import numpy as np\n",
        "from tensorflow.keras.layers import Dense, Activation\n",
        "from tensorflow.keras.layers import SimpleRNN, LSTM, GRU\n",
        "from tensorflow.keras.models import Sequential"
      ]
    },
    {
      "cell_type": "code",
      "execution_count": 224,
      "metadata": {
        "id": "Ps1dnhIsnUKq"
      },
      "outputs": [],
      "source": [
        "# построчное чтение из примера с текстом \n",
        "with open(\"/content/drive/MyDrive/Colab Notebooks/Нейронные сети/zamyatin_my.txt\", 'rb') as _in:\n",
        "    lines = []\n",
        "    for line in _in:\n",
        "        line = line.strip().lower().decode(\"cp1251\", \"ignore\")\n",
        "        if len(line) == 0:\n",
        "            continue\n",
        "        lines.append(line)\n",
        "text = \" \".join(lines)\n",
        "text = text.replace('\\r', ' ').replace('             ', ' ').replace('         ', ' ')\n",
        "text = text[:50000]\n",
        "chars = set(text)\n",
        "nb_chars = len(chars)"
      ]
    },
    {
      "cell_type": "code",
      "execution_count": 225,
      "metadata": {
        "id": "Qu08wn8GztrM",
        "colab": {
          "base_uri": "https://localhost:8080/"
        },
        "outputId": "160951ef-a0ec-4daf-da18-4dd334026e65"
      },
      "outputs": [
        {
          "output_type": "execute_result",
          "data": {
            "text/plain": [
              "99"
            ]
          },
          "metadata": {},
          "execution_count": 225
        }
      ],
      "source": [
        "len(chars)"
      ]
    },
    {
      "cell_type": "code",
      "execution_count": 226,
      "metadata": {
        "id": "xlcUCnMRHfzk"
      },
      "outputs": [],
      "source": [
        "# создание индекса символов и reverse mapping чтобы передвигаться между значениями numerical\n",
        "# ID and a specific character. The numerical ID will correspond to a column\n",
        "# ID и определенный символ. Numerical ID будет соответсвовать колонке\n",
        "# число при использовании one-hot кодировки для представление входов символов\n",
        "char2index = {c: i for i, c in enumerate(chars)}\n",
        "index2char = {i: c for i, c in enumerate(chars)}"
      ]
    },
    {
      "cell_type": "code",
      "execution_count": 227,
      "metadata": {
        "id": "_DTjI3_plewq",
        "scrolled": true
      },
      "outputs": [],
      "source": [
        "# index2char"
      ]
    },
    {
      "cell_type": "code",
      "execution_count": 228,
      "metadata": {
        "id": "TQZaEpb-Hlyg"
      },
      "outputs": [],
      "source": [
        "# для удобства выберете фиксированную длину последовательность 10 символов \n",
        "SEQLEN, STEP = 10, 1\n",
        "input_chars, label_chars = [], []\n",
        "\n",
        "# конвертация data в серии разных SEQLEN-length субпоследовательностей\n",
        "for i in range(0, len(text) - SEQLEN, STEP):\n",
        "    input_chars.append(text[i: i + SEQLEN])\n",
        "    label_chars.append(text[i + SEQLEN])"
      ]
    },
    {
      "cell_type": "code",
      "execution_count": 229,
      "metadata": {
        "id": "sOnvzS5zlews",
        "colab": {
          "base_uri": "https://localhost:8080/"
        },
        "outputId": "990fb573-7064-4c2e-b0ed-b37483e3c087"
      },
      "outputs": [
        {
          "output_type": "execute_result",
          "data": {
            "text/plain": [
              "49990"
            ]
          },
          "metadata": {},
          "execution_count": 229
        }
      ],
      "source": [
        "len(input_chars)"
      ]
    },
    {
      "cell_type": "code",
      "execution_count": 230,
      "metadata": {
        "id": "BEMyktdvHqjc",
        "colab": {
          "base_uri": "https://localhost:8080/"
        },
        "outputId": "06701669-bd57-48d1-a29e-de58fb32413d"
      },
      "outputs": [
        {
          "output_type": "execute_result",
          "data": {
            "text/plain": [
              "('Евгений За', 'м')"
            ]
          },
          "metadata": {},
          "execution_count": 230
        }
      ],
      "source": [
        "input_chars[0], label_chars[0]"
      ]
    },
    {
      "cell_type": "code",
      "execution_count": 231,
      "metadata": {
        "id": "9F663JydpkOv",
        "colab": {
          "base_uri": "https://localhost:8080/"
        },
        "outputId": "a138391b-cfce-4515-f41b-d74dc9e9584a"
      },
      "outputs": [
        {
          "output_type": "execute_result",
          "data": {
            "text/plain": [
              "('вгений Зам', 'я')"
            ]
          },
          "metadata": {},
          "execution_count": 231
        }
      ],
      "source": [
        "input_chars[1], label_chars[1]"
      ]
    },
    {
      "cell_type": "code",
      "execution_count": 232,
      "metadata": {
        "id": "9L3y9LfmHywZ",
        "colab": {
          "base_uri": "https://localhost:8080/"
        },
        "outputId": "eebdec15-c649-4b27-b828-16c6a4d0b743"
      },
      "outputs": [
        {
          "output_type": "stream",
          "name": "stderr",
          "text": [
            "/usr/local/lib/python3.7/dist-packages/ipykernel_launcher.py:3: DeprecationWarning: `np.bool` is a deprecated alias for the builtin `bool`. To silence this warning, use `bool` by itself. Doing this will not modify any behavior and is safe. If you specifically wanted the numpy scalar type, use `np.bool_` here.\n",
            "Deprecated in NumPy 1.20; for more details and guidance: https://numpy.org/devdocs/release/1.20.0-notes.html#deprecations\n",
            "  This is separate from the ipykernel package so we can avoid doing imports until\n",
            "/usr/local/lib/python3.7/dist-packages/ipykernel_launcher.py:4: DeprecationWarning: `np.bool` is a deprecated alias for the builtin `bool`. To silence this warning, use `bool` by itself. Doing this will not modify any behavior and is safe. If you specifically wanted the numpy scalar type, use `np.bool_` here.\n",
            "Deprecated in NumPy 1.20; for more details and guidance: https://numpy.org/devdocs/release/1.20.0-notes.html#deprecations\n",
            "  after removing the cwd from sys.path.\n"
          ]
        }
      ],
      "source": [
        "# Вычисление one-hot encoding входных последовательностей X и следующего символа (the label) y\n",
        "\n",
        "X = np.zeros((len(input_chars), SEQLEN, nb_chars), dtype=np.bool)\n",
        "y = np.zeros((len(input_chars), nb_chars), dtype=np.bool)\n",
        "for i, input_char in enumerate(input_chars):\n",
        "    for j, ch in enumerate(input_char):\n",
        "        X[i, j, char2index[ch]] = 1\n",
        "    y[i, char2index[label_chars[i]]] = 1"
      ]
    },
    {
      "cell_type": "code",
      "execution_count": 233,
      "metadata": {
        "id": "s8lY57-Tlewu",
        "colab": {
          "base_uri": "https://localhost:8080/"
        },
        "outputId": "5673bf93-18e6-4381-cc0b-061fab564573"
      },
      "outputs": [
        {
          "output_type": "execute_result",
          "data": {
            "text/plain": [
              "(49990, 10, 99)"
            ]
          },
          "metadata": {},
          "execution_count": 233
        }
      ],
      "source": [
        "X.shape"
      ]
    },
    {
      "cell_type": "code",
      "execution_count": 234,
      "metadata": {
        "id": "FWqwrcHiH6gw"
      },
      "outputs": [],
      "source": [
        "# установка ряда метапамертров  для нейронной сети и процесса тренировки\n",
        "BATCH_SIZE, HIDDEN_SIZE = 80, 200\n",
        "NUM_ITERATIONS = 15 # 25 должно быть достаточно\n",
        "NUM_EPOCHS_PER_ITERATION = 1\n",
        "NUM_PREDS_PER_EPOCH = 100"
      ]
    },
    {
      "cell_type": "code",
      "execution_count": 235,
      "metadata": {
        "id": "XOhbTKqmIApm"
      },
      "outputs": [],
      "source": [
        "'''\n",
        "Создание очень простой рекуррентной нейронной сети. В ней будет один реккурентный закодированный входной слой. \n",
        "За ним последует полносвязный слой связанный с набором возможных следующих символов, \n",
        "которые конвертированы в вероятностные результаты через стандартную softmax активацию \n",
        "с multi-class cross-encoding loss функцию ссылающуются на предсказание one-hot encoding лейбл символа\n",
        "'''\n",
        "\n",
        "randomstate()\n",
        "model = Sequential()\n",
        "model.add(\n",
        "    GRU(  # вы можете изменить эту часть на LSTM или SimpleRNN, чтобы попробовать альтернативы\n",
        "        HIDDEN_SIZE,\n",
        "        return_sequences=True,\n",
        "        input_shape=(SEQLEN, nb_chars),\n",
        "        unroll=True\n",
        "    )\n",
        ")\n",
        "\n",
        "model.add(\n",
        "    GRU(  \n",
        "        HIDDEN_SIZE,\n",
        "        return_sequences=False,\n",
        "        unroll=True,\n",
        "        dropout=0.2, \n",
        "        recurrent_dropout=0.2\n",
        "    )\n",
        ")\n",
        "\n",
        "model.add(Dense(800, activation='tanh'))\n",
        "model.add(Dense(nb_chars))\n",
        "model.add(Activation(\"softmax\"))\n",
        "model.compile(loss=\"categorical_crossentropy\", optimizer=\"rmsprop\")"
      ]
    },
    {
      "cell_type": "code",
      "execution_count": 236,
      "metadata": {
        "id": "CsGE7YUdITrA",
        "scrolled": false,
        "colab": {
          "base_uri": "https://localhost:8080/"
        },
        "outputId": "72cb3d80-59ed-4745-cd65-b1880f6fa612"
      },
      "outputs": [
        {
          "output_type": "stream",
          "name": "stdout",
          "text": [
            "==================================================\n",
            "Итерация #: 0\n",
            "625/625 [==============================] - 89s 127ms/step - loss: 2.7732\n",
            "Генерация из посева: понимать, \n",
            "понимать, – – – – – – – – – – – – – – – – – – – – – – – – – – – – – – – – – – – – – – – – – – – – – – – – – – ==================================================\n",
            "Итерация #: 1\n",
            "625/625 [==============================] - 79s 127ms/step - loss: 2.4947\n",
            "Генерация из посева: и Благодет\n",
            "и Благодеть серенное сторать – я на сторать – я на сторать – я на сторать – я на сторать – я на сторать – я на==================================================\n",
            "Итерация #: 2\n",
            "625/625 [==============================] - 81s 130ms/step - loss: 2.3903\n",
            "Генерация из посева: , да, одна\n",
            ", да, одна сторать серенное странные сказальное сторать серенное странные сказальное сторать серенное странные==================================================\n",
            "Итерация #: 3\n",
            "625/625 [==============================] - 80s 127ms/step - loss: 2.3002\n",
            "Генерация из посева: я: я решил\n",
            "я: я решил себе сторали – сторали – сторали – сторали – сторали – сторали – сторали – сторали – сторали – стор==================================================\n",
            "Итерация #: 4\n",
            "625/625 [==============================] - 81s 129ms/step - loss: 2.2200\n",
            "Генерация из посева: ицы, что и\n",
            "ицы, что и сородного себе – сторали – и сородного себе – сторали – и сородного себе – сторали – и сородного се==================================================\n",
            "Итерация #: 5\n",
            "625/625 [==============================] - 80s 128ms/step - loss: 2.1392\n",
            "Генерация из посева: едил  стар\n",
            "едил  старать себе – станал себе – станал себе – станал себе – станал себе – станал себе – станал себе – стана==================================================\n",
            "Итерация #: 6\n",
            "625/625 [==============================] - 80s 128ms/step - loss: 2.0619\n",
            "Генерация из посева: й лестницы\n",
            "й лестницы – сони – и солнце – станал себе – станал себе – станал себе – станал себе – станал себе – станал се==================================================\n",
            "Итерация #: 7\n",
            "625/625 [==============================] - 82s 131ms/step - loss: 1.9906\n",
            "Генерация из посева: аться здес\n",
            "аться здесть – старанные просто – старанные просто – старанные просто – старанные просто – старанные просто – ==================================================\n",
            "Итерация #: 8\n",
            "625/625 [==============================] - 80s 127ms/step - loss: 1.9195\n",
            "Генерация из посева: голубовато\n",
            "голубоваторать просто полозная  постранные станали поднимаете себе – сонершально поднимаете себе – сонершально==================================================\n",
            "Итерация #: 9\n",
            "625/625 [==============================] - 80s 128ms/step - loss: 1.8519\n",
            "Генерация из посева: щеку. Это \n",
            "щеку. Это серда – и сознательное пострание старанные просто – и сознательное пострание старанные просто – и со==================================================\n",
            "Итерация #: 10\n",
            "625/625 [==============================] - 82s 131ms/step - loss: 1.7956\n",
            "Генерация из посева: ется; своб\n",
            "ется; свободный  какой-то снавать себе – странные  случает  темные улыбкивает себя постранить меня – с ней соз==================================================\n",
            "Итерация #: 11\n",
            "625/625 [==============================] - 80s 128ms/step - loss: 1.7377\n",
            "Генерация из посева: ь уменьшит\n",
            "ь уменьшить себе – странные  сознательное пострание меня –  какой-то себя по подому – сказал себя посударства.==================================================\n",
            "Итерация #: 12\n",
            "625/625 [==============================] - 82s 131ms/step - loss: 1.6786\n",
            "Генерация из посева: вниз – лег\n",
            "вниз – легкий сказал себя на подому да, я не подожении – не одна из себе – нас одна из себе – нас одна из себе==================================================\n",
            "Итерация #: 13\n",
            "625/625 [==============================] - 80s 128ms/step - loss: 1.6283\n",
            "Генерация из посева: ать то, чт\n",
            "ать то, что не буду спостью себе – самое остраете старанные получилась. – Ну да, не подожно было у ней получал==================================================\n",
            "Итерация #: 14\n",
            "625/625 [==============================] - 82s 131ms/step - loss: 1.5770\n",
            "Генерация из посева: астье, наш\n",
            "астье, нашей женский грузи, как бы сознати мысли. Но я сердца – подняла себе – как штора. Нет, не подожен и мы"
          ]
        }
      ],
      "source": [
        "# выполнение серий тренировочных и демонстрационных итераций \n",
        "for iteration in range(NUM_ITERATIONS):\n",
        "\n",
        "    # для каждой итерации запуск передачи данных в модель \n",
        "    print(\"=\" * 50)\n",
        "    print(\"Итерация #: %d\" % (iteration))\n",
        "    model.fit(X, y, batch_size=BATCH_SIZE, epochs=NUM_EPOCHS_PER_ITERATION)\n",
        "\n",
        "    # Select a random example input sequence.\n",
        "    test_idx = np.random.randint(len(input_chars))\n",
        "    test_chars = input_chars[test_idx]\n",
        "\n",
        "    # для числа шагов предсказаний использование текущей тренируемой модели \n",
        "    # конструирование one-hot encoding для тестирования input и добавление предсказания.\n",
        "    \n",
        "    print(\"Генерация из посева: %s\" % (test_chars))\n",
        "    print(test_chars, end=\"\")\n",
        "    \n",
        "    for i in range(NUM_PREDS_PER_EPOCH):\n",
        "\n",
        "        # здесь one-hot encoding.\n",
        "        X_test = np.zeros((1, SEQLEN, nb_chars))\n",
        "        for j, ch in enumerate(test_chars):\n",
        "            X_test[0, j, char2index[ch]] = 1\n",
        "\n",
        "        # осуществление предсказания с помощью текущей модели.\n",
        "        pred = model.predict(X_test, verbose=0)[0]\n",
        "        y_pred = index2char[np.argmax(pred)]\n",
        "\n",
        "        # вывод предсказания добавленного к тестовому примеру \n",
        "        print(y_pred, end=\"\")\n",
        "\n",
        "        # инкрементация тестового примера содержащего предсказание\n",
        "        test_chars = test_chars[1:] + y_pred"
      ]
    },
    {
      "cell_type": "markdown",
      "source": [
        "Были испробованы изменения следующих параметров: batch_size, hidden_size, оптимизатор ('rmsprop' → 'adam'), добавление полносвязных слоев с количеством нейронов 100/500/800, добавление дополнительного слоя GRU, переменной SEQLEN, функции активации последнего слоя ('softmax' → 'sigmoid'), функции активации полносвязного слоя ('tanh' → 'relu'), dropout; комбинации этих параметров.\n",
        "\n",
        "Некоторые наблюдения:\n",
        "\n",
        " - Точность повышается при увеличении таких параметров как: hidden_size, количество нейронов в полносвязных слоях, количество итераций.\n",
        " - Точность повышается при уменьшении таких параметров как: batch_size, dropout.\n",
        " - На большой выборке модель учится очень долго.\n",
        " - Для лучшего обучения пришлось немного обработать текст, избавиться от лишних пробелов и знаков табуляции.\n",
        " - Для распознования кириллицы нужна верная кодировка 'cp1251'."
      ],
      "metadata": {
        "id": "4ulqnw0Xb1YM"
      }
    },
    {
      "cell_type": "markdown",
      "metadata": {
        "id": "LzIxVHjdsTV_"
      },
      "source": [
        "# **Варианты решения проблемы исчезающего градиента в RNN:**\n",
        " - перепроектировать модель\n",
        " - использовать обрезку градиента\n",
        " - использовать регуляризацию весов\n",
        " - правильно выбрать функцию активации\n",
        " - использовать остаточные нейронные сети (ResNets)\n"
      ]
    }
  ],
  "metadata": {
    "accelerator": "GPU",
    "colab": {
      "collapsed_sections": [],
      "name": "HW5.ipynb",
      "provenance": []
    },
    "kernelspec": {
      "display_name": "Python 3",
      "name": "python3"
    },
    "language_info": {
      "name": "python"
    }
  },
  "nbformat": 4,
  "nbformat_minor": 0
}