{
  "nbformat": 4,
  "nbformat_minor": 0,
  "metadata": {
    "colab": {
      "name": "HW3.ipynb",
      "provenance": [],
      "collapsed_sections": []
    },
    "kernelspec": {
      "name": "python3",
      "display_name": "Python 3"
    },
    "language_info": {
      "name": "python"
    }
  },
  "cells": [
    {
      "cell_type": "markdown",
      "source": [
        "# **Домашнее задание**"
      ],
      "metadata": {
        "id": "ycElwFj_RBys"
      }
    },
    {
      "cell_type": "markdown",
      "source": [
        "Даны два массива с рукописными буквами и с характеристиками вина. \n",
        "\n",
        "Выбрать датасет, возможно, предварительно обработать, создать модель, обучить и проверить точность на тестовом датасете. Напишите свои мысли по поводу результатов.\n",
        "\n",
        "При желании можно рассмотреть оба датасета, можете попробовать применить другие методы машинного обучения, известные вам, и сравнить результаты обучения."
      ],
      "metadata": {
        "id": "hKSMbdubuNN2"
      }
    },
    {
      "cell_type": "code",
      "source": [
        "# !pip install tensorflow == 2.7.0"
      ],
      "metadata": {
        "id": "COPGj7j3uek-"
      },
      "execution_count": 183,
      "outputs": []
    },
    {
      "cell_type": "code",
      "source": [
        "# Импорт библиотек\n",
        "\n",
        "import numpy as np\n",
        "from numpy import where\n",
        "import matplotlib.pyplot as plt\n",
        "import random as python_random\n",
        "import tensorflow as tf\n",
        "from tensorflow import keras\n",
        "from tensorflow.keras.models import Sequential\n",
        "from tensorflow.keras.layers import Dense\n",
        "from sklearn.model_selection import train_test_split\n",
        "from tensorflow.keras.layers import Normalization\n",
        "from keras.utils.vis_utils import plot_model\n",
        "from sklearn.linear_model import LogisticRegression\n",
        "from sklearn.pipeline import make_pipeline\n",
        "from sklearn.preprocessing import StandardScaler\n",
        "from sklearn.datasets import load_wine\n",
        "\n",
        "print(f'Tensorflow version: {tf.__version__}')"
      ],
      "metadata": {
        "colab": {
          "base_uri": "https://localhost:8080/"
        },
        "id": "VJg90blIf6Sh",
        "outputId": "4300fed1-5fcd-463d-cfc2-94ade9531719"
      },
      "execution_count": 184,
      "outputs": [
        {
          "output_type": "stream",
          "name": "stdout",
          "text": [
            "Tensorflow version: 2.8.2\n"
          ]
        }
      ]
    },
    {
      "cell_type": "code",
      "source": [
        "# Вспомогательные функции\n",
        "\n",
        "# Фиксирование случайных значений\n",
        "def randomstate(seed=42):\n",
        "  np.random.seed(seed)\n",
        "  tf.random.set_seed(seed)\n",
        "\n",
        "# Построение графика для изображения\n",
        "def plot_image(i, predictions_array, true_label, img, labels_name):\n",
        "  predictions_array, true_label, img = predictions_array, true_label[i], img[i]\n",
        "  plt.grid(False)\n",
        "  plt.xticks([])\n",
        "  plt.yticks([])\n",
        "\n",
        "  plt.imshow(img, cmap=plt.cm.binary)\n",
        "\n",
        "  predicted_label = np.argmax(predictions_array)\n",
        "  if predicted_label == true_label:\n",
        "    color = 'blue'\n",
        "  else:\n",
        "    color = 'red'\n",
        "\n",
        "  plt.xlabel(\"{} {:2.0f}% ({})\".format(labels_name[predicted_label],\n",
        "                                100*np.max(predictions_array),\n",
        "                                labels_name[true_label]),\n",
        "                                color=color)\n",
        "\n",
        "# Построение графика для визуализации правильных ответов с определенной вероятностью для изображений\n",
        "def plot_value_array(i, predictions_array, true_label, len_labels):\n",
        "  predictions_array, true_label = predictions_array, true_label[i]\n",
        "  plt.grid(False)\n",
        "  plt.xticks(range(len_labels))\n",
        "  plt.yticks([])\n",
        "  thisplot = plt.bar(range(len_labels), predictions_array, color=\"#777777\")\n",
        "  plt.ylim([0, 1])\n",
        "  predicted_label = np.argmax(predictions_array)\n",
        "\n",
        "  thisplot[predicted_label].set_color('red')\n",
        "  thisplot[true_label].set_color('blue')\n",
        "\n",
        "# График сравнения распределения классов для датасета с вином\n",
        "def plot_for_wine(X_test, y_test, y_pred):\n",
        "  plt.subplot(221)\n",
        "  for class_value in range(3):\n",
        "    row_ix = where(y_test == class_value)\n",
        "    plt.scatter(X_test[row_ix, 0], X_test[row_ix, 1])\n",
        "  plt.title('Test labels')\n",
        "\n",
        "  plt.subplot(222)\n",
        "  for class_value in range(3):\n",
        "    row_ix = where(y_pred == class_value)\n",
        "    plt.scatter(X_test[row_ix, 0], X_test[row_ix, 1])\n",
        "  plt.title('Predict labels')\n",
        "\n",
        "  plt.show()"
      ],
      "metadata": {
        "id": "bQhf3m1pOX0L"
      },
      "execution_count": 185,
      "outputs": []
    },
    {
      "cell_type": "markdown",
      "source": [
        "# Датасет с винами"
      ],
      "metadata": {
        "id": "M72ajz7tRQuN"
      }
    },
    {
      "cell_type": "markdown",
      "source": [
        "https://scikit-learn.org/stable/modules/generated/sklearn.datasets.load_wine.html#sklearn.datasets.load_wine"
      ],
      "metadata": {
        "id": "089ZkMffRYu6"
      }
    },
    {
      "cell_type": "markdown",
      "source": [
        "### **ДАННЫЕ**"
      ],
      "metadata": {
        "id": "GYDoQL4zrk7Z"
      }
    },
    {
      "cell_type": "code",
      "source": [
        "data = load_wine()"
      ],
      "metadata": {
        "id": "yXhssEenSe8S"
      },
      "execution_count": 186,
      "outputs": []
    },
    {
      "cell_type": "code",
      "source": [
        "list(data.target_names)"
      ],
      "metadata": {
        "id": "DTyfGtPIRjbP",
        "colab": {
          "base_uri": "https://localhost:8080/"
        },
        "outputId": "fac64bad-cf53-4316-a6cf-69bc04c8535b"
      },
      "execution_count": 187,
      "outputs": [
        {
          "output_type": "execute_result",
          "data": {
            "text/plain": [
              "['class_0', 'class_1', 'class_2']"
            ]
          },
          "metadata": {},
          "execution_count": 187
        }
      ]
    },
    {
      "cell_type": "code",
      "source": [
        "data.feature_names"
      ],
      "metadata": {
        "id": "tvnxIsLpRQGC",
        "colab": {
          "base_uri": "https://localhost:8080/"
        },
        "outputId": "d4591d87-957f-47da-978d-12b47ea537a2"
      },
      "execution_count": 188,
      "outputs": [
        {
          "output_type": "execute_result",
          "data": {
            "text/plain": [
              "['alcohol',\n",
              " 'malic_acid',\n",
              " 'ash',\n",
              " 'alcalinity_of_ash',\n",
              " 'magnesium',\n",
              " 'total_phenols',\n",
              " 'flavanoids',\n",
              " 'nonflavanoid_phenols',\n",
              " 'proanthocyanins',\n",
              " 'color_intensity',\n",
              " 'hue',\n",
              " 'od280/od315_of_diluted_wines',\n",
              " 'proline']"
            ]
          },
          "metadata": {},
          "execution_count": 188
        }
      ]
    },
    {
      "cell_type": "code",
      "source": [
        "data.data.shape, data.target.shape"
      ],
      "metadata": {
        "id": "F6E3WMc2Rl0y",
        "colab": {
          "base_uri": "https://localhost:8080/"
        },
        "outputId": "05b64bdf-bdb6-4d8c-f670-d3e0b471804a"
      },
      "execution_count": 189,
      "outputs": [
        {
          "output_type": "execute_result",
          "data": {
            "text/plain": [
              "((178, 13), (178,))"
            ]
          },
          "metadata": {},
          "execution_count": 189
        }
      ]
    },
    {
      "cell_type": "code",
      "source": [
        "X_train, X_test, y_train, y_test = train_test_split(data.data, data.target, test_size=0.25, shuffle=True, random_state=0)"
      ],
      "metadata": {
        "id": "YZqtD7GFRsnQ"
      },
      "execution_count": 190,
      "outputs": []
    },
    {
      "cell_type": "code",
      "source": [
        "X_train"
      ],
      "metadata": {
        "colab": {
          "base_uri": "https://localhost:8080/"
        },
        "id": "0RT4ISosFfY6",
        "outputId": "eddc30a1-8970-4e25-ce78-49d15d611eee"
      },
      "execution_count": 191,
      "outputs": [
        {
          "output_type": "execute_result",
          "data": {
            "text/plain": [
              "array([[1.364e+01, 3.100e+00, 2.560e+00, ..., 9.600e-01, 3.360e+00,\n",
              "        8.450e+02],\n",
              "       [1.260e+01, 2.460e+00, 2.200e+00, ..., 7.300e-01, 1.580e+00,\n",
              "        6.950e+02],\n",
              "       [1.196e+01, 1.090e+00, 2.300e+00, ..., 9.900e-01, 3.130e+00,\n",
              "        8.860e+02],\n",
              "       ...,\n",
              "       [1.242e+01, 1.610e+00, 2.190e+00, ..., 1.060e+00, 2.960e+00,\n",
              "        3.450e+02],\n",
              "       [1.390e+01, 1.680e+00, 2.120e+00, ..., 9.100e-01, 3.330e+00,\n",
              "        9.850e+02],\n",
              "       [1.416e+01, 2.510e+00, 2.480e+00, ..., 6.200e-01, 1.710e+00,\n",
              "        6.600e+02]])"
            ]
          },
          "metadata": {},
          "execution_count": 191
        }
      ]
    },
    {
      "cell_type": "markdown",
      "source": [
        "## **Необходимо добавить стандартизацию данных!**"
      ],
      "metadata": {
        "id": "JWWHQCyaDV78"
      }
    },
    {
      "cell_type": "code",
      "source": [
        "from sklearn.preprocessing import StandardScaler\n",
        "\n",
        "scaler = StandardScaler()\n",
        "X_train = scaler.fit(X_train).transform(X_train)\n",
        "X_test = scaler.transform(X_test)"
      ],
      "metadata": {
        "id": "8c3EhxswCk-7"
      },
      "execution_count": 192,
      "outputs": []
    },
    {
      "cell_type": "code",
      "source": [
        "X_train"
      ],
      "metadata": {
        "colab": {
          "base_uri": "https://localhost:8080/"
        },
        "id": "LQpP7wlSFiWY",
        "outputId": "051b4a95-136d-43ec-ca34-f445b16e1bd8"
      },
      "execution_count": 193,
      "outputs": [
        {
          "output_type": "execute_result",
          "data": {
            "text/plain": [
              "array([[ 0.79996869,  0.63400362,  0.71783316, ...,  0.05445565,\n",
              "         1.0713277 ,  0.31500451],\n",
              "       [-0.49875982,  0.06171955, -0.61072701, ..., -0.93473577,\n",
              "        -1.39249704, -0.18138885],\n",
              "       [-1.29797736, -1.16332605, -0.24168252, ...,  0.18348062,\n",
              "         0.75296832,  0.45068536],\n",
              "       ...,\n",
              "       [-0.72353975, -0.69834524, -0.64763146, ...,  0.48453887,\n",
              "         0.51765922, -1.33964004],\n",
              "       [ 1.12465081, -0.63575167, -0.90596261, ..., -0.16058596,\n",
              "         1.02980256,  0.77830498],\n",
              "       [ 1.44933294,  0.10642924,  0.42259757, ..., -1.40782731,\n",
              "        -1.21255479, -0.29721397]])"
            ]
          },
          "metadata": {},
          "execution_count": 193
        }
      ]
    },
    {
      "cell_type": "code",
      "source": [
        "X_train.shape, X_test.shape, y_train.shape, y_test.shape"
      ],
      "metadata": {
        "id": "ZI_B1C6FSYFu",
        "colab": {
          "base_uri": "https://localhost:8080/"
        },
        "outputId": "1a9b482b-205d-472d-b2d6-6f2de5925e73"
      },
      "execution_count": 194,
      "outputs": [
        {
          "output_type": "execute_result",
          "data": {
            "text/plain": [
              "((133, 13), (45, 13), (133,), (45,))"
            ]
          },
          "metadata": {},
          "execution_count": 194
        }
      ]
    },
    {
      "cell_type": "code",
      "source": [
        "print(X_train.shape, len(y_train), y_train[:10], sep='\\n')"
      ],
      "metadata": {
        "colab": {
          "base_uri": "https://localhost:8080/"
        },
        "id": "7lScTbquQaeU",
        "outputId": "6a65638b-8b22-4a8a-b1d7-adef74dc9cbb"
      },
      "execution_count": 195,
      "outputs": [
        {
          "output_type": "stream",
          "name": "stdout",
          "text": [
            "(133, 13)\n",
            "133\n",
            "[0 2 1 2 0 2 2 0 2 0]\n"
          ]
        }
      ]
    },
    {
      "cell_type": "code",
      "source": [
        "print(X_test.shape, len(y_test), y_test[:10], sep='\\n')"
      ],
      "metadata": {
        "colab": {
          "base_uri": "https://localhost:8080/"
        },
        "id": "v-1qvbvMQakv",
        "outputId": "40bfc235-690a-4bef-a388-7c7405f92a51"
      },
      "execution_count": 196,
      "outputs": [
        {
          "output_type": "stream",
          "name": "stdout",
          "text": [
            "(45, 13)\n",
            "45\n",
            "[0 2 1 0 1 1 0 2 1 1]\n"
          ]
        }
      ]
    },
    {
      "cell_type": "code",
      "source": [
        "# Нормализация данных\n",
        "\n",
        "normalizer = Normalization(axis=-1)\n",
        "normalizer.adapt(X_train)\n",
        "\n",
        "normalized_data = normalizer(X_train)\n",
        "print(\"var: %.4f\" % np.var(normalized_data))\n",
        "print(\"mean: %.4f\" % np.mean(normalized_data))"
      ],
      "metadata": {
        "colab": {
          "base_uri": "https://localhost:8080/"
        },
        "id": "X3nmOKCzjn5c",
        "outputId": "7b3671f1-a387-46f7-eb54-b477a9fd794c"
      },
      "execution_count": 197,
      "outputs": [
        {
          "output_type": "stream",
          "name": "stdout",
          "text": [
            "var: 1.0000\n",
            "mean: -0.0000\n"
          ]
        }
      ]
    },
    {
      "cell_type": "code",
      "source": [
        "# График распределения классов\n",
        "\n",
        "for class_value in range(3):\n",
        "\trow_ix = where(y_train == class_value)\n",
        "\tplt.scatter(X_train[row_ix, 0], X_train[row_ix, 1])\n",
        "\n",
        "plt.title('Train labels')\n",
        "plt.show()"
      ],
      "metadata": {
        "colab": {
          "base_uri": "https://localhost:8080/",
          "height": 281
        },
        "id": "a8C--Vw_VqfY",
        "outputId": "e16d0464-661c-433f-8f02-f96fa540c5a3"
      },
      "execution_count": 198,
      "outputs": [
        {
          "output_type": "display_data",
          "data": {
            "text/plain": [
              "<Figure size 432x288 with 1 Axes>"
            ],
            "image/png": "[encoded data removed]"
          },
          "metadata": {
            "needs_background": "light"
          }
        }
      ]
    },
    {
      "cell_type": "markdown",
      "source": [
        "### **ОБУЧЕНИЕ НЕЙРОННОЙ СЕТИ**"
      ],
      "metadata": {
        "id": "btAWmKGzrrEi"
      }
    },
    {
      "cell_type": "code",
      "source": [
        "# # Создание модели\n",
        "\n",
        "# randomstate()\n",
        "\n",
        "# model_w = keras.Sequential([\n",
        "#     tf.keras.layers.InputLayer(input_shape=(13,)),\n",
        "#     keras.layers.Dense(90, activation='tanh'),\n",
        "#     keras.layers.Dense(3)\n",
        "# ])\n",
        "\n",
        "# model_w.compile(optimizer=tf.keras.optimizers.Adam(learning_rate=0.001),\n",
        "#                  loss=tf.keras.losses.SparseCategoricalCrossentropy(from_logits=True),\n",
        "#                  metrics=['accuracy'])\n"
      ],
      "metadata": {
        "id": "D1dM8YW_Qaqf"
      },
      "execution_count": 199,
      "outputs": []
    },
    {
      "cell_type": "code",
      "source": [
        "# Создание другой модели\n",
        "\n",
        "randomstate()\n",
        "\n",
        "model_w = keras.Sequential([\n",
        "    tf.keras.layers.InputLayer(input_shape=(13,)),\n",
        "    keras.layers.Dense(500, activation='tanh'),\n",
        "    keras.layers.Dense(128, activation='tanh'),\n",
        "    keras.layers.Dense(3)\n",
        "])\n",
        "\n",
        "model_w.compile(optimizer=tf.keras.optimizers.Adam(learning_rate=0.001),\n",
        "                 loss=tf.keras.losses.SparseCategoricalCrossentropy(from_logits=True),\n",
        "                 metrics=['accuracy'])\n"
      ],
      "metadata": {
        "id": "wj6_cbXIDscu"
      },
      "execution_count": 200,
      "outputs": []
    },
    {
      "cell_type": "code",
      "source": [
        "model_w.summary()"
      ],
      "metadata": {
        "colab": {
          "base_uri": "https://localhost:8080/"
        },
        "id": "kSycXbDcRE1M",
        "outputId": "5931a37b-6a90-4c90-84c6-62cf97d92706"
      },
      "execution_count": 201,
      "outputs": [
        {
          "output_type": "stream",
          "name": "stdout",
          "text": [
            "Model: \"sequential_17\"\n",
            "_________________________________________________________________\n",
            " Layer (type)                Output Shape              Param #   \n",
            "=================================================================\n",
            " dense_33 (Dense)            (None, 500)               7000      \n",
            "                                                                 \n",
            " dense_34 (Dense)            (None, 128)               64128     \n",
            "                                                                 \n",
            " dense_35 (Dense)            (None, 3)                 387       \n",
            "                                                                 \n",
            "=================================================================\n",
            "Total params: 71,515\n",
            "Trainable params: 71,515\n",
            "Non-trainable params: 0\n",
            "_________________________________________________________________\n"
          ]
        }
      ]
    },
    {
      "cell_type": "code",
      "source": [
        "hstr = model_w.fit(X_train, y_train, validation_split=0.2, epochs=7, verbose=2)\n",
        "\n",
        "# Epoch 7/7\n",
        "# 4/4 - 0s - loss: 0.7631 - accuracy: 0.7547 - val_loss: 0.8425 - val_accuracy: 0.6296 - 31ms/epoch - 8ms/step - точность БЕЗ стандартизации"
      ],
      "metadata": {
        "colab": {
          "base_uri": "https://localhost:8080/"
        },
        "id": "1uUarDmYRE66",
        "outputId": "439ef47f-395e-4d65-9411-7515c0f16138"
      },
      "execution_count": 202,
      "outputs": [
        {
          "output_type": "stream",
          "name": "stdout",
          "text": [
            "Epoch 1/7\n",
            "4/4 - 1s - loss: 0.8208 - accuracy: 0.6226 - val_loss: 0.2026 - val_accuracy: 1.0000 - 592ms/epoch - 148ms/step\n",
            "Epoch 2/7\n",
            "4/4 - 0s - loss: 0.1864 - accuracy: 0.9623 - val_loss: 0.0772 - val_accuracy: 1.0000 - 46ms/epoch - 12ms/step\n",
            "Epoch 3/7\n",
            "4/4 - 0s - loss: 0.0911 - accuracy: 0.9811 - val_loss: 0.0547 - val_accuracy: 1.0000 - 35ms/epoch - 9ms/step\n",
            "Epoch 4/7\n",
            "4/4 - 0s - loss: 0.0582 - accuracy: 0.9906 - val_loss: 0.0599 - val_accuracy: 0.9630 - 37ms/epoch - 9ms/step\n",
            "Epoch 5/7\n",
            "4/4 - 0s - loss: 0.0410 - accuracy: 0.9906 - val_loss: 0.0716 - val_accuracy: 0.9630 - 47ms/epoch - 12ms/step\n",
            "Epoch 6/7\n",
            "4/4 - 0s - loss: 0.0336 - accuracy: 0.9906 - val_loss: 0.0845 - val_accuracy: 0.9630 - 35ms/epoch - 9ms/step\n",
            "Epoch 7/7\n",
            "4/4 - 0s - loss: 0.0281 - accuracy: 0.9906 - val_loss: 0.0976 - val_accuracy: 0.9630 - 43ms/epoch - 11ms/step\n"
          ]
        }
      ]
    },
    {
      "cell_type": "markdown",
      "source": [
        "### **ОЦЕНКА**"
      ],
      "metadata": {
        "id": "_wolZWyOrvHQ"
      }
    },
    {
      "cell_type": "code",
      "source": [
        "# Оценка модели на тесте\n",
        "\n",
        "model_w.evaluate(X_test, y_test)\n",
        "\n",
        "# 2/2 [==============================] - 0s 7ms/step - loss: 0.6980 - accuracy: 0.8222 - точность БЕЗ стандартизации\n",
        "# [0.6979676485061646, 0.8222222328186035]"
      ],
      "metadata": {
        "colab": {
          "base_uri": "https://localhost:8080/"
        },
        "id": "faLQJKDcRFAD",
        "outputId": "23526c5a-c703-4c71-f2ea-d2058a9868c8"
      },
      "execution_count": 203,
      "outputs": [
        {
          "output_type": "stream",
          "name": "stdout",
          "text": [
            "2/2 [==============================] - 0s 6ms/step - loss: 0.0269 - accuracy: 1.0000\n"
          ]
        },
        {
          "output_type": "execute_result",
          "data": {
            "text/plain": [
              "[0.026890266686677933, 1.0]"
            ]
          },
          "metadata": {},
          "execution_count": 203
        }
      ]
    },
    {
      "cell_type": "markdown",
      "source": [
        "### **ПРЕДСКАЗАНИЯ**"
      ],
      "metadata": {
        "id": "EOzrSUVsr1kx"
      }
    },
    {
      "cell_type": "code",
      "source": [
        "probability_model = tf.keras.Sequential([model_w, \n",
        "                                         tf.keras.layers.Softmax()])\n",
        "predictions = probability_model.predict(X_test)"
      ],
      "metadata": {
        "id": "rOsnw1kvRFFE"
      },
      "execution_count": 204,
      "outputs": []
    },
    {
      "cell_type": "code",
      "source": [
        "print(predictions[0],\n",
        "      np.argmax(predictions[0]),\n",
        "      y_test[0],\n",
        "      sep='\\n')"
      ],
      "metadata": {
        "colab": {
          "base_uri": "https://localhost:8080/"
        },
        "id": "pQ06q4ipRFKe",
        "outputId": "693dfdd4-97cb-4bbc-b13b-3b08b091deb9"
      },
      "execution_count": 205,
      "outputs": [
        {
          "output_type": "stream",
          "name": "stdout",
          "text": [
            "[9.9877316e-01 1.8312928e-04 1.0437561e-03]\n",
            "0\n",
            "0\n"
          ]
        }
      ]
    },
    {
      "cell_type": "code",
      "source": [
        "y_pred = np.array([np.argmax(predictions[i]) for i in range(predictions.shape[0])])"
      ],
      "metadata": {
        "id": "2Q8-zfTfsih6"
      },
      "execution_count": 206,
      "outputs": []
    },
    {
      "cell_type": "markdown",
      "source": [
        "### **ВИЗУАЛИЗАЦИЯ**"
      ],
      "metadata": {
        "id": "V5qLdLBDr9w1"
      }
    },
    {
      "cell_type": "code",
      "source": [
        "# График распределения классов на реальных ответах и предсказаниях\n",
        "\n",
        "plt.figure(figsize=(10, 8))\n",
        "plot_for_wine(X_test, y_test, y_pred)"
      ],
      "metadata": {
        "colab": {
          "base_uri": "https://localhost:8080/",
          "height": 262
        },
        "id": "_pKJkX8hptAe",
        "outputId": "55201d53-8ff7-4686-8abc-76238c18eba7"
      },
      "execution_count": 207,
      "outputs": [
        {
          "output_type": "display_data",
          "data": {
            "text/plain": [
              "<Figure size 720x576 with 2 Axes>"
            ],
            "image/png": "[encoded data removed]"
          },
          "metadata": {
            "needs_background": "light"
          }
        }
      ]
    },
    {
      "cell_type": "markdown",
      "source": [
        "### **ОБУЧЕНИЕ ЛОГИСТИЧЕСКОЙ РЕГРЕССИИ**"
      ],
      "metadata": {
        "id": "lXLeZc2IsC9J"
      }
    },
    {
      "cell_type": "code",
      "source": [
        "# Создание модели\n",
        "\n",
        "pipe = make_pipeline(StandardScaler(), LogisticRegression())\n",
        "pipe.fit(X_train, y_train)\n",
        "\n",
        "pipe.score(X_test, y_test)"
      ],
      "metadata": {
        "colab": {
          "base_uri": "https://localhost:8080/"
        },
        "id": "2ggRN_PjRFns",
        "outputId": "de14eee7-e0dd-48ef-cc75-c6bfac3a3705"
      },
      "execution_count": 208,
      "outputs": [
        {
          "output_type": "execute_result",
          "data": {
            "text/plain": [
              "1.0"
            ]
          },
          "metadata": {},
          "execution_count": 208
        }
      ]
    },
    {
      "cell_type": "code",
      "source": [
        "# Предсказание ответов\n",
        "\n",
        "y_pred = pipe.predict(X_test)"
      ],
      "metadata": {
        "id": "2GLw7VyDmJhS"
      },
      "execution_count": 209,
      "outputs": []
    },
    {
      "cell_type": "code",
      "source": [
        "# График распределения классов на реальных ответах и предсказаниях\n",
        "\n",
        "plt.figure(figsize=(10, 8))\n",
        "plot_for_wine(X_test, y_test, y_pred)"
      ],
      "metadata": {
        "colab": {
          "base_uri": "https://localhost:8080/",
          "height": 262
        },
        "id": "ZQRiKgpatKE-",
        "outputId": "5f6892f7-a1d0-4015-b79e-0b6ae50cf7f8"
      },
      "execution_count": 210,
      "outputs": [
        {
          "output_type": "display_data",
          "data": {
            "text/plain": [
              "<Figure size 720x576 with 2 Axes>"
            ],
            "image/png": "[encoded data removed]"
          },
          "metadata": {
            "needs_background": "light"
          }
        }
      ]
    },
    {
      "cell_type": "markdown",
      "source": [
        "### **ВЫВОД**\n",
        "\n",
        "С помощью нейронной сети удалось добиться точности на тесте в **0.8222**. При этом на трейне точность была ниже - **0.7547**.\n",
        "\n",
        "Предсказания с помощью логистической регрессии оказались лучше и показали 100% результат.\n",
        "\n",
        "### **<font color='red'>После проведения стандартизации и добавления большего количества нейронов, удалость добиться 100% точности на тесте!</font>**"
      ],
      "metadata": {
        "id": "_p1617odwPSc"
      }
    },
    {
      "cell_type": "markdown",
      "source": [
        "# Датасет с рукописными буквами"
      ],
      "metadata": {
        "id": "gAqpMfDiSkZ5"
      }
    },
    {
      "cell_type": "markdown",
      "source": [
        "https://www.tensorflow.org/datasets/catalog/binary_alpha_digits"
      ],
      "metadata": {
        "id": "m5rHCIuXVrmj"
      }
    },
    {
      "cell_type": "markdown",
      "source": [
        "### **ДАННЫЕ**"
      ],
      "metadata": {
        "id": "6XKcEH5rgPaG"
      }
    },
    {
      "cell_type": "code",
      "source": [
        "# Загрузка данных\n",
        "\n",
        "X = np.load('/content/drive/MyDrive/Colab Notebooks/Нейронные сети/binary_alpha_digits_images.npy')\n",
        "y = np.load('/content/drive/MyDrive/Colab Notebooks/Нейронные сети/binary_alpha_digits_labels.npy')\n",
        "\n",
        "# Выделение названий классов\n",
        "\n",
        "classes = [str(i) for i in range(10)] +  list('ABCDEFGHIJKLMNOPQRSTUVWXYZ')\n",
        "print(classes)"
      ],
      "metadata": {
        "id": "OMHXQi0ZSimY",
        "colab": {
          "base_uri": "https://localhost:8080/"
        },
        "outputId": "d3f94334-3da1-4997-bf37-e2cad20e8d04"
      },
      "execution_count": 211,
      "outputs": [
        {
          "output_type": "stream",
          "name": "stdout",
          "text": [
            "['0', '1', '2', '3', '4', '5', '6', '7', '8', '9', 'A', 'B', 'C', 'D', 'E', 'F', 'G', 'H', 'I', 'J', 'K', 'L', 'M', 'N', 'O', 'P', 'Q', 'R', 'S', 'T', 'U', 'V', 'W', 'X', 'Y', 'Z']\n"
          ]
        }
      ]
    },
    {
      "cell_type": "code",
      "source": [
        "len(classes)"
      ],
      "metadata": {
        "colab": {
          "base_uri": "https://localhost:8080/"
        },
        "id": "IyhIj9NjlB-O",
        "outputId": "87dee233-58a9-45b0-d04f-73dc9053475f"
      },
      "execution_count": 212,
      "outputs": [
        {
          "output_type": "execute_result",
          "data": {
            "text/plain": [
              "36"
            ]
          },
          "metadata": {},
          "execution_count": 212
        }
      ]
    },
    {
      "cell_type": "code",
      "source": [
        "X.shape, y.shape"
      ],
      "metadata": {
        "colab": {
          "base_uri": "https://localhost:8080/"
        },
        "id": "kEauefpMfs1S",
        "outputId": "2ff045ad-f51e-4bd3-beb8-4e67675ae0b2"
      },
      "execution_count": 213,
      "outputs": [
        {
          "output_type": "execute_result",
          "data": {
            "text/plain": [
              "((1404, 20, 16), (1404,))"
            ]
          },
          "metadata": {},
          "execution_count": 213
        }
      ]
    },
    {
      "cell_type": "code",
      "source": [
        "# Визуализация изображений\n",
        "\n",
        "fig, axes = plt.subplots(3, 5, figsize=(10, 5))\n",
        "fig.suptitle('binary alpha digits', fontsize=20)\n",
        "n = 0\n",
        "for ax in axes.flat:\n",
        "    ax.set_yticks([])\n",
        "    ax.set_xticks([])\n",
        "    ax.imshow(X[n], cmap=plt.cm.binary)\n",
        "    ax.set_xlabel(classes[y[n]])\n",
        "    n += 1"
      ],
      "metadata": {
        "id": "4nmyuGLyC3W9",
        "colab": {
          "base_uri": "https://localhost:8080/",
          "height": 353
        },
        "outputId": "5d7ff58e-5f94-4959-c948-ed041244ea62"
      },
      "execution_count": 214,
      "outputs": [
        {
          "output_type": "display_data",
          "data": {
            "text/plain": [
              "<Figure size 720x360 with 15 Axes>"
            ],
            "image/png": "[encoded data removed]"
          },
          "metadata": {}
        }
      ]
    },
    {
      "cell_type": "code",
      "source": [
        "# Деление на тренировочную и тестовую выборки\n",
        "\n",
        "X_train, X_test, y_train, y_test = train_test_split(X,\n",
        "                                                    y,\n",
        "                                                    test_size=0.33,\n",
        "                                                    random_state=42)"
      ],
      "metadata": {
        "id": "gcyqbdssdjPR"
      },
      "execution_count": 215,
      "outputs": []
    },
    {
      "cell_type": "code",
      "source": [
        "X_train[1]"
      ],
      "metadata": {
        "colab": {
          "base_uri": "https://localhost:8080/"
        },
        "id": "krJewSOfF9iV",
        "outputId": "69637a61-cda6-488c-ab6c-ae29c7e0c2de"
      },
      "execution_count": 216,
      "outputs": [
        {
          "output_type": "execute_result",
          "data": {
            "text/plain": [
              "array([[1, 0, 0, 0, 0, 0, 0, 0, 0, 0, 0, 0, 0, 0, 0, 1],\n",
              "       [1, 1, 1, 0, 0, 0, 0, 0, 0, 0, 0, 0, 0, 0, 0, 1],\n",
              "       [0, 1, 1, 1, 1, 0, 0, 0, 0, 0, 0, 0, 0, 0, 0, 1],\n",
              "       [0, 0, 1, 1, 1, 1, 0, 0, 0, 0, 0, 0, 0, 0, 0, 1],\n",
              "       [0, 0, 0, 0, 1, 1, 1, 1, 0, 0, 0, 0, 0, 0, 1, 1],\n",
              "       [0, 0, 0, 0, 0, 0, 1, 1, 1, 0, 0, 0, 0, 0, 1, 1],\n",
              "       [0, 0, 0, 0, 0, 0, 1, 1, 1, 1, 1, 0, 0, 0, 1, 1],\n",
              "       [0, 0, 0, 0, 0, 0, 0, 0, 0, 1, 1, 1, 1, 1, 1, 1],\n",
              "       [0, 0, 0, 0, 0, 0, 0, 0, 0, 0, 0, 1, 1, 1, 1, 1],\n",
              "       [0, 0, 0, 0, 0, 0, 0, 0, 0, 0, 0, 0, 0, 1, 1, 1],\n",
              "       [0, 0, 0, 0, 0, 0, 0, 0, 0, 0, 0, 0, 0, 1, 1, 1],\n",
              "       [0, 0, 0, 0, 0, 0, 0, 0, 0, 0, 0, 0, 0, 0, 1, 1],\n",
              "       [0, 0, 0, 0, 0, 0, 0, 0, 0, 0, 0, 0, 0, 0, 1, 0],\n",
              "       [0, 0, 0, 0, 0, 0, 0, 0, 0, 0, 0, 0, 0, 0, 1, 0],\n",
              "       [0, 0, 0, 0, 0, 0, 0, 0, 0, 0, 0, 0, 0, 1, 1, 0],\n",
              "       [0, 0, 0, 0, 0, 0, 0, 0, 0, 0, 0, 0, 0, 1, 1, 0],\n",
              "       [0, 0, 0, 0, 0, 0, 0, 0, 0, 0, 0, 0, 0, 1, 1, 0],\n",
              "       [0, 0, 0, 0, 0, 0, 0, 0, 0, 0, 0, 0, 0, 1, 1, 0],\n",
              "       [0, 0, 0, 0, 0, 0, 0, 0, 0, 0, 0, 0, 0, 1, 1, 0],\n",
              "       [0, 0, 0, 0, 0, 0, 0, 0, 0, 0, 0, 0, 0, 1, 1, 0]], dtype=uint8)"
            ]
          },
          "metadata": {},
          "execution_count": 216
        }
      ]
    },
    {
      "cell_type": "markdown",
      "source": [
        "## **Делить на 255 не нужно, так как данные станут слишком маленькими!**"
      ],
      "metadata": {
        "id": "co2eM1cqGCEa"
      }
    },
    {
      "cell_type": "code",
      "source": [
        "# # Нормализация данных\n",
        "\n",
        "# X_train = X_train / 255.0\n",
        "# X_test = X_test / 255.0"
      ],
      "metadata": {
        "id": "E_L-X7MbaRIi"
      },
      "execution_count": 217,
      "outputs": []
    },
    {
      "cell_type": "code",
      "source": [
        "print(X_train.shape, len(y_train), [classes[i] for i in y_train[:10]], sep='\\n')"
      ],
      "metadata": {
        "id": "-KABm1zlKMi-",
        "colab": {
          "base_uri": "https://localhost:8080/"
        },
        "outputId": "be2cba5f-ab80-4d62-e467-96833c309188"
      },
      "execution_count": 218,
      "outputs": [
        {
          "output_type": "stream",
          "name": "stdout",
          "text": [
            "(940, 20, 16)\n",
            "940\n",
            "['C', 'Y', 'Y', 'G', 'V', '2', '6', 'T', 'O', 'G']\n"
          ]
        }
      ]
    },
    {
      "cell_type": "code",
      "source": [
        "print(X_test.shape, len(y_test), [classes[i] for i in y_test[:10]], sep='\\n')"
      ],
      "metadata": {
        "colab": {
          "base_uri": "https://localhost:8080/"
        },
        "id": "CGIneucFfXee",
        "outputId": "a04f0f8f-f1e5-4170-9fca-27aaf965e4d8"
      },
      "execution_count": 219,
      "outputs": [
        {
          "output_type": "stream",
          "name": "stdout",
          "text": [
            "(464, 20, 16)\n",
            "464\n",
            "['D', 'S', '4', 'A', 'V', 'O', 'G', 'L', 'V', '2']\n"
          ]
        }
      ]
    },
    {
      "cell_type": "markdown",
      "source": [
        "### **ОБУЧЕНИЕ НЕЙРОННОЙ СЕТИ**"
      ],
      "metadata": {
        "id": "zFoEH2eOgLIK"
      }
    },
    {
      "cell_type": "code",
      "source": [
        "# # Создание модели\n",
        "\n",
        "# randomstate()\n",
        "\n",
        "# model_rb = keras.Sequential([\n",
        "#     keras.layers.Flatten(input_shape=(20, 16)),\n",
        "#     keras.layers.Dense(250, activation='tanh'),\n",
        "#     keras.layers.Dense(200, activation='tanh'),\n",
        "#     keras.layers.Dense(150, activation='tanh'),\n",
        "#     keras.layers.Dense(36)\n",
        "# ])\n",
        "\n",
        "# model_rb.compile(optimizer=tf.keras.optimizers.Adam(learning_rate=0.005),\n",
        "#                  loss=tf.keras.losses.SparseCategoricalCrossentropy(from_logits=True),\n",
        "#                  metrics=['accuracy'])\n"
      ],
      "metadata": {
        "id": "mP7Xm1Za-Bxw"
      },
      "execution_count": 220,
      "outputs": []
    },
    {
      "cell_type": "code",
      "source": [
        "# Создание другой модели\n",
        "\n",
        "randomstate()\n",
        "\n",
        "model_rb = keras.Sequential([\n",
        "    keras.layers.Flatten(input_shape=(20, 16)),\n",
        "    keras.layers.Dense(250, activation='tanh'),\n",
        "    keras.layers.Dropout(0.2),\n",
        "    keras.layers.Dense(150, activation='tanh'),\n",
        "    keras.layers.Dense(36)\n",
        "])\n",
        "\n",
        "model_rb.compile(optimizer=tf.keras.optimizers.RMSprop(learning_rate=0.005), # изменили оптимизатор, спокойнее будет learning_rate\n",
        "                 loss=tf.keras.losses.SparseCategoricalCrossentropy(from_logits=True),\n",
        "                 metrics=['accuracy'])\n"
      ],
      "metadata": {
        "id": "tkFkyUIrHBtx"
      },
      "execution_count": 221,
      "outputs": []
    },
    {
      "cell_type": "code",
      "source": [
        "model_rb.summary()"
      ],
      "metadata": {
        "colab": {
          "base_uri": "https://localhost:8080/"
        },
        "id": "z_zwM76RjQp0",
        "outputId": "3d6c621d-b34d-4bb6-de5b-2d2130f37bd4"
      },
      "execution_count": 222,
      "outputs": [
        {
          "output_type": "stream",
          "name": "stdout",
          "text": [
            "Model: \"sequential_19\"\n",
            "_________________________________________________________________\n",
            " Layer (type)                Output Shape              Param #   \n",
            "=================================================================\n",
            " flatten_8 (Flatten)         (None, 320)               0         \n",
            "                                                                 \n",
            " dense_36 (Dense)            (None, 250)               80250     \n",
            "                                                                 \n",
            " dropout_5 (Dropout)         (None, 250)               0         \n",
            "                                                                 \n",
            " dense_37 (Dense)            (None, 150)               37650     \n",
            "                                                                 \n",
            " dense_38 (Dense)            (None, 36)                5436      \n",
            "                                                                 \n",
            "=================================================================\n",
            "Total params: 123,336\n",
            "Trainable params: 123,336\n",
            "Non-trainable params: 0\n",
            "_________________________________________________________________\n"
          ]
        }
      ]
    },
    {
      "cell_type": "code",
      "source": [
        "hstr = model_rb.fit(X_train, y_train, validation_split=0.2, epochs=13, verbose=2)\n",
        "\n",
        "# Epoch 1/15\n",
        "# 24/24 - 1s - loss: 3.5186 - accuracy: 0.0585 - val_loss: 3.3265 - val_accuracy: 0.0851 - 532ms/epoch - 22ms/step \n",
        "# 24/24 (количество итераций, зависит от batch_size, если уменьшить его, то итераций будет больше (понадобится больше шагов, чтобы пройти весь датасет), если увеличить — соответственно меньше)\n",
        "\n",
        "\n",
        "# Epoch 15/15\n",
        "# 24/24 - 0s - loss: 0.3798 - accuracy: 0.8644 - val_loss: 1.6950 - val_accuracy: 0.5745 - 116ms/epoch - 5ms/step - с нормализацией"
      ],
      "metadata": {
        "colab": {
          "base_uri": "https://localhost:8080/"
        },
        "id": "lTxtCQOijQtx",
        "outputId": "1264d8ff-367b-4ef4-ded4-6951bb90efe9"
      },
      "execution_count": 223,
      "outputs": [
        {
          "output_type": "stream",
          "name": "stdout",
          "text": [
            "Epoch 1/13\n",
            "24/24 - 1s - loss: 3.0134 - accuracy: 0.2061 - val_loss: 2.2531 - val_accuracy: 0.3191 - 826ms/epoch - 34ms/step\n",
            "Epoch 2/13\n",
            "24/24 - 0s - loss: 1.3944 - accuracy: 0.5798 - val_loss: 1.5571 - val_accuracy: 0.4787 - 119ms/epoch - 5ms/step\n",
            "Epoch 3/13\n",
            "24/24 - 0s - loss: 0.9921 - accuracy: 0.6888 - val_loss: 1.4517 - val_accuracy: 0.5798 - 116ms/epoch - 5ms/step\n",
            "Epoch 4/13\n",
            "24/24 - 0s - loss: 0.6558 - accuracy: 0.7979 - val_loss: 1.2650 - val_accuracy: 0.6170 - 120ms/epoch - 5ms/step\n",
            "Epoch 5/13\n",
            "24/24 - 0s - loss: 0.5848 - accuracy: 0.7992 - val_loss: 1.5807 - val_accuracy: 0.5479 - 112ms/epoch - 5ms/step\n",
            "Epoch 6/13\n",
            "24/24 - 0s - loss: 0.4119 - accuracy: 0.8657 - val_loss: 1.4926 - val_accuracy: 0.5851 - 115ms/epoch - 5ms/step\n",
            "Epoch 7/13\n",
            "24/24 - 0s - loss: 0.3613 - accuracy: 0.8976 - val_loss: 1.6415 - val_accuracy: 0.5745 - 112ms/epoch - 5ms/step\n",
            "Epoch 8/13\n",
            "24/24 - 0s - loss: 0.2667 - accuracy: 0.9069 - val_loss: 1.5164 - val_accuracy: 0.6064 - 124ms/epoch - 5ms/step\n",
            "Epoch 9/13\n",
            "24/24 - 0s - loss: 0.2388 - accuracy: 0.9162 - val_loss: 1.4345 - val_accuracy: 0.6170 - 107ms/epoch - 4ms/step\n",
            "Epoch 10/13\n",
            "24/24 - 0s - loss: 0.1843 - accuracy: 0.9468 - val_loss: 1.4318 - val_accuracy: 0.6170 - 120ms/epoch - 5ms/step\n",
            "Epoch 11/13\n",
            "24/24 - 0s - loss: 0.1709 - accuracy: 0.9402 - val_loss: 1.3950 - val_accuracy: 0.6330 - 112ms/epoch - 5ms/step\n",
            "Epoch 12/13\n",
            "24/24 - 0s - loss: 0.1941 - accuracy: 0.9415 - val_loss: 1.4127 - val_accuracy: 0.6596 - 106ms/epoch - 4ms/step\n",
            "Epoch 13/13\n",
            "24/24 - 0s - loss: 0.1357 - accuracy: 0.9481 - val_loss: 1.3871 - val_accuracy: 0.6755 - 107ms/epoch - 4ms/step\n"
          ]
        }
      ]
    },
    {
      "cell_type": "code",
      "source": [
        "plot_model(model_rb, show_shapes=True, show_layer_names=True)"
      ],
      "metadata": {
        "colab": {
          "base_uri": "https://localhost:8080/",
          "height": 644
        },
        "id": "Ntm6SCoQjQ0I",
        "outputId": "33476688-eae9-4425-b572-602502a781a0"
      },
      "execution_count": 224,
      "outputs": [
        {
          "output_type": "execute_result",
          "data": {
            "text/plain": [
              "<IPython.core.display.Image object>"
            ],
            "image/png": "[encoded data removed]"
          },
          "metadata": {},
          "execution_count": 224
        }
      ]
    },
    {
      "cell_type": "markdown",
      "source": [
        "### **ОЦЕНКА КАЧЕСТВА**"
      ],
      "metadata": {
        "id": "aJM5Oz3ZFGnq"
      }
    },
    {
      "cell_type": "code",
      "source": [
        "# Оценка модели на тесте\n",
        "\n",
        "model_rb.evaluate(X_test, y_test)\n",
        "\n",
        "# 15/15 [==============================] - 0s 3ms/step - loss: 1.5832 - accuracy: 0.5905 - с нормализацией\n",
        "# [1.583207130432129, 0.5905172228813171]"
      ],
      "metadata": {
        "colab": {
          "base_uri": "https://localhost:8080/"
        },
        "id": "uOL7cLkBFM0m",
        "outputId": "50887a7b-1e93-4a44-e94b-af2601be8fc2"
      },
      "execution_count": 225,
      "outputs": [
        {
          "output_type": "stream",
          "name": "stdout",
          "text": [
            "15/15 [==============================] - 0s 2ms/step - loss: 1.5371 - accuracy: 0.6530\n"
          ]
        },
        {
          "output_type": "execute_result",
          "data": {
            "text/plain": [
              "[1.537061095237732, 0.6530172228813171]"
            ]
          },
          "metadata": {},
          "execution_count": 225
        }
      ]
    },
    {
      "cell_type": "markdown",
      "source": [
        "### **РЕЗУЛЬТАТЫ**"
      ],
      "metadata": {
        "id": "uDogkKnZj5kT"
      }
    },
    {
      "cell_type": "code",
      "source": [
        "probability_model = tf.keras.Sequential([model_rb, \n",
        "                                         tf.keras.layers.Softmax()])\n",
        "predictions = probability_model.predict(X_test)"
      ],
      "metadata": {
        "id": "n31sPXpKkIkH"
      },
      "execution_count": 226,
      "outputs": []
    },
    {
      "cell_type": "code",
      "source": [
        "print(predictions[0],\n",
        "      np.argmax(predictions[0]),\n",
        "      y_test[0],\n",
        "      sep='\\n')"
      ],
      "metadata": {
        "id": "-qCnQH75kIov",
        "colab": {
          "base_uri": "https://localhost:8080/"
        },
        "outputId": "eba16a0d-512d-4df9-c166-3cb0273e6357"
      },
      "execution_count": 227,
      "outputs": [
        {
          "output_type": "stream",
          "name": "stdout",
          "text": [
            "[7.9945266e-02 2.4128085e-04 1.2139220e-05 3.2220689e-06 9.4370911e-04\n",
            " 5.7001915e-05 3.2364496e-03 1.3498549e-04 1.7914856e-05 9.1646543e-05\n",
            " 3.4050629e-03 2.5753159e-04 1.7561466e-05 8.1678504e-01 1.3632232e-05\n",
            " 3.0215469e-04 8.5626823e-05 4.8947103e-02 1.6101428e-06 1.2302530e-06\n",
            " 2.2219951e-04 9.3207336e-06 2.9874488e-03 1.2295200e-04 1.4687660e-02\n",
            " 2.6068302e-02 2.0729154e-04 2.9434293e-04 2.3960794e-07 3.5971407e-05\n",
            " 1.3757907e-04 6.2449765e-04 7.5181806e-06 1.3431158e-08 6.2542284e-07\n",
            " 9.3878327e-05]\n",
            "13\n",
            "13\n"
          ]
        }
      ]
    },
    {
      "cell_type": "code",
      "source": [
        "from sklearn.metrics import classification_report\n",
        "\n",
        "print(classification_report(y_test,  predictions.argmax(-1)))"
      ],
      "metadata": {
        "colab": {
          "base_uri": "https://localhost:8080/"
        },
        "id": "1QOiSUNoHeQZ",
        "outputId": "5c9932c4-7f12-48c4-b7d4-7251dfaca012"
      },
      "execution_count": 228,
      "outputs": [
        {
          "output_type": "stream",
          "name": "stdout",
          "text": [
            "              precision    recall  f1-score   support\n",
            "\n",
            "           0       0.55      0.85      0.67        13\n",
            "           1       0.59      0.83      0.69        12\n",
            "           2       0.29      0.88      0.44         8\n",
            "           3       1.00      0.58      0.74        12\n",
            "           4       0.48      0.73      0.58        15\n",
            "           5       0.69      0.60      0.64        15\n",
            "           6       0.78      0.88      0.82         8\n",
            "           7       0.91      0.91      0.91        11\n",
            "           8       0.33      0.30      0.32        10\n",
            "           9       0.86      0.67      0.75        18\n",
            "          10       1.00      0.43      0.60        14\n",
            "          11       0.86      0.50      0.63        12\n",
            "          12       0.73      1.00      0.84        16\n",
            "          13       0.80      0.73      0.76        11\n",
            "          14       0.78      0.93      0.85        15\n",
            "          15       0.53      0.71      0.61        14\n",
            "          16       0.64      0.41      0.50        17\n",
            "          17       0.92      0.58      0.71        19\n",
            "          18       0.80      0.25      0.38        16\n",
            "          19       0.76      0.68      0.72        19\n",
            "          20       0.50      0.45      0.48        11\n",
            "          21       0.73      0.80      0.76        10\n",
            "          22       0.69      0.69      0.69        13\n",
            "          23       0.71      0.38      0.50        13\n",
            "          24       0.00      0.00      0.00         8\n",
            "          25       0.67      1.00      0.80         8\n",
            "          26       0.77      0.67      0.71        15\n",
            "          27       0.43      0.50      0.46        12\n",
            "          28       0.47      0.64      0.55        14\n",
            "          29       0.73      0.67      0.70        12\n",
            "          30       0.64      0.70      0.67        10\n",
            "          31       0.73      0.62      0.67        13\n",
            "          32       0.74      0.88      0.80        16\n",
            "          33       0.61      0.92      0.73        12\n",
            "          34       0.62      0.73      0.67        11\n",
            "          35       0.62      0.45      0.53        11\n",
            "\n",
            "    accuracy                           0.65       464\n",
            "   macro avg       0.66      0.65      0.64       464\n",
            "weighted avg       0.68      0.65      0.64       464\n",
            "\n"
          ]
        },
        {
          "output_type": "stream",
          "name": "stderr",
          "text": [
            "/usr/local/lib/python3.7/dist-packages/sklearn/metrics/_classification.py:1318: UndefinedMetricWarning: Precision and F-score are ill-defined and being set to 0.0 in labels with no predicted samples. Use `zero_division` parameter to control this behavior.\n",
            "  _warn_prf(average, modifier, msg_start, len(result))\n",
            "/usr/local/lib/python3.7/dist-packages/sklearn/metrics/_classification.py:1318: UndefinedMetricWarning: Precision and F-score are ill-defined and being set to 0.0 in labels with no predicted samples. Use `zero_division` parameter to control this behavior.\n",
            "  _warn_prf(average, modifier, msg_start, len(result))\n",
            "/usr/local/lib/python3.7/dist-packages/sklearn/metrics/_classification.py:1318: UndefinedMetricWarning: Precision and F-score are ill-defined and being set to 0.0 in labels with no predicted samples. Use `zero_division` parameter to control this behavior.\n",
            "  _warn_prf(average, modifier, msg_start, len(result))\n"
          ]
        }
      ]
    },
    {
      "cell_type": "markdown",
      "source": [
        "### **ВИЗУАЛИЗАЦИЯ**"
      ],
      "metadata": {
        "id": "iWbTXcvO1DIZ"
      }
    },
    {
      "cell_type": "markdown",
      "source": [
        "### **Плохое распознование**"
      ],
      "metadata": {
        "id": "07ylh7EeJVtC"
      }
    },
    {
      "cell_type": "code",
      "source": [
        "plt.imshow(X_test[y_test == 8][0])"
      ],
      "metadata": {
        "colab": {
          "base_uri": "https://localhost:8080/",
          "height": 282
        },
        "id": "XatWidblH9Sz",
        "outputId": "7253a636-1e3f-4e9a-88ea-54a276483c6a"
      },
      "execution_count": 229,
      "outputs": [
        {
          "output_type": "execute_result",
          "data": {
            "text/plain": [
              "<matplotlib.image.AxesImage at 0x7fc7ad513450>"
            ]
          },
          "metadata": {},
          "execution_count": 229
        },
        {
          "output_type": "display_data",
          "data": {
            "text/plain": [
              "<Figure size 432x288 with 1 Axes>"
            ],
            "image/png": "[encoded data removed]"
          },
          "metadata": {
            "needs_background": "light"
          }
        }
      ]
    },
    {
      "cell_type": "code",
      "source": [
        "plt.imshow(X_test[y_test == 8][7])"
      ],
      "metadata": {
        "colab": {
          "base_uri": "https://localhost:8080/",
          "height": 282
        },
        "id": "AEz0emPlIf7W",
        "outputId": "44f8c7c0-d071-40e0-a095-6ce15e2aac30"
      },
      "execution_count": 230,
      "outputs": [
        {
          "output_type": "execute_result",
          "data": {
            "text/plain": [
              "<matplotlib.image.AxesImage at 0x7fc7a841bed0>"
            ]
          },
          "metadata": {},
          "execution_count": 230
        },
        {
          "output_type": "display_data",
          "data": {
            "text/plain": [
              "<Figure size 432x288 with 1 Axes>"
            ],
            "image/png": "[encoded data removed]"
          },
          "metadata": {
            "needs_background": "light"
          }
        }
      ]
    },
    {
      "cell_type": "code",
      "source": [
        "plt.imshow(X_test[y_test == 8][5])"
      ],
      "metadata": {
        "colab": {
          "base_uri": "https://localhost:8080/",
          "height": 282
        },
        "id": "TlFkzEoNIgDo",
        "outputId": "e081466f-cf00-4a38-95c0-18c5e4d6549e"
      },
      "execution_count": 231,
      "outputs": [
        {
          "output_type": "execute_result",
          "data": {
            "text/plain": [
              "<matplotlib.image.AxesImage at 0x7fc7a83b68d0>"
            ]
          },
          "metadata": {},
          "execution_count": 231
        },
        {
          "output_type": "display_data",
          "data": {
            "text/plain": [
              "<Figure size 432x288 with 1 Axes>"
            ],
            "image/png": "[encoded data removed]"
          },
          "metadata": {
            "needs_background": "light"
          }
        }
      ]
    },
    {
      "cell_type": "markdown",
      "source": [
        "### **Хорошее распознование**"
      ],
      "metadata": {
        "id": "f6R0_4MVJPk0"
      }
    },
    {
      "cell_type": "code",
      "source": [
        "plt.imshow(X_test[y_test == 14][1])"
      ],
      "metadata": {
        "colab": {
          "base_uri": "https://localhost:8080/",
          "height": 282
        },
        "id": "dzk87csgJICn",
        "outputId": "4d71ccd4-a8ee-4667-b769-8f63f2972748"
      },
      "execution_count": 232,
      "outputs": [
        {
          "output_type": "execute_result",
          "data": {
            "text/plain": [
              "<matplotlib.image.AxesImage at 0x7fc7a5752a10>"
            ]
          },
          "metadata": {},
          "execution_count": 232
        },
        {
          "output_type": "display_data",
          "data": {
            "text/plain": [
              "<Figure size 432x288 with 1 Axes>"
            ],
            "image/png": "[encoded data removed]"
          },
          "metadata": {
            "needs_background": "light"
          }
        }
      ]
    },
    {
      "cell_type": "code",
      "source": [
        "plt.imshow(X_test[y_test == 25][1])"
      ],
      "metadata": {
        "colab": {
          "base_uri": "https://localhost:8080/",
          "height": 282
        },
        "id": "sG-5-uX7JIGc",
        "outputId": "a5bc4ec5-1b0e-49f1-a324-cb66b01f6ab4"
      },
      "execution_count": 233,
      "outputs": [
        {
          "output_type": "execute_result",
          "data": {
            "text/plain": [
              "<matplotlib.image.AxesImage at 0x7fc7a813d390>"
            ]
          },
          "metadata": {},
          "execution_count": 233
        },
        {
          "output_type": "display_data",
          "data": {
            "text/plain": [
              "<Figure size 432x288 with 1 Axes>"
            ],
            "image/png": "[encoded data removed]"
          },
          "metadata": {
            "needs_background": "light"
          }
        }
      ]
    },
    {
      "cell_type": "code",
      "source": [
        "plt.figure(figsize=(26,3))\n",
        "img = X_test[1]\n",
        "\n",
        "print(img.shape)\n",
        "# Add the image to a batch where it's the only member.\n",
        "img = (np.expand_dims(img, 0))\n",
        "\n",
        "print(img.shape)\n",
        "predictions_single = probability_model.predict(img)\n",
        "\n",
        "print(predictions_single)\n",
        "\n",
        "plot_value_array(1, predictions_single[0], y_test, len(classes))\n",
        "_ = plt.xticks(range(36), classes, rotation=0)"
      ],
      "metadata": {
        "colab": {
          "base_uri": "https://localhost:8080/",
          "height": 385
        },
        "id": "R1S5zMMT1Hw1",
        "outputId": "1ca4ed4d-e6c6-417e-aa95-dfef37db4da4"
      },
      "execution_count": 234,
      "outputs": [
        {
          "output_type": "stream",
          "name": "stdout",
          "text": [
            "(20, 16)\n",
            "(1, 20, 16)\n",
            "[[6.0758248e-07 1.3885880e-05 2.6220403e-06 5.9511099e-06 1.7394710e-08\n",
            "  9.9103010e-01 5.1005600e-08 1.0148764e-07 2.8772722e-04 2.4414072e-05\n",
            "  2.0657673e-08 1.6702869e-06 2.1317070e-05 9.6543955e-09 7.1448642e-03\n",
            "  2.5782452e-04 4.7628837e-05 7.4221632e-08 6.7097062e-05 9.2036880e-06\n",
            "  3.2949284e-08 2.0198556e-07 3.1491243e-09 5.2885909e-08 1.6178829e-07\n",
            "  3.9276946e-07 4.4922958e-06 1.4546713e-05 1.0434438e-03 1.9675808e-05\n",
            "  7.7987863e-08 2.5362056e-07 9.8240697e-08 2.5319594e-07 2.1670619e-08\n",
            "  1.0042143e-06]]\n"
          ]
        },
        {
          "output_type": "display_data",
          "data": {
            "text/plain": [
              "<Figure size 1872x216 with 1 Axes>"
            ],
            "image/png": "[encoded data removed]"
          },
          "metadata": {
            "needs_background": "light"
          }
        }
      ]
    },
    {
      "cell_type": "code",
      "source": [
        "i = 0\n",
        "plt.figure(figsize=(26,3))\n",
        "plt.subplot(1,2,1)\n",
        "plot_image(i, predictions[i], y_test, X_test, classes)\n",
        "plt.subplot(1,2,2)\n",
        "plot_value_array(i, predictions[i],  y_test, len(classes))\n",
        "_ = plt.xticks(range(36), classes, rotation=0)\n",
        "plt.show()\n",
        "\n",
        "i = 12\n",
        "plt.figure(figsize=(26,3))\n",
        "plt.subplot(1,2,1)\n",
        "plot_image(i, predictions[i], y_test, X_test, classes)\n",
        "plt.subplot(1,2,2)\n",
        "plot_value_array(i, predictions[i],  y_test, len(classes))\n",
        "_ = plt.xticks(range(36), classes, rotation=0)\n",
        "plt.show()\n"
      ],
      "metadata": {
        "colab": {
          "base_uri": "https://localhost:8080/",
          "height": 405
        },
        "id": "M8LFBgVq1H3W",
        "outputId": "aee1c680-4afd-491b-f287-cfb4930e7e77"
      },
      "execution_count": 235,
      "outputs": [
        {
          "output_type": "display_data",
          "data": {
            "text/plain": [
              "<Figure size 1872x216 with 2 Axes>"
            ],
            "image/png": "[encoded data removed]"
          },
          "metadata": {
            "needs_background": "light"
          }
        },
        {
          "output_type": "display_data",
          "data": {
            "text/plain": [
              "<Figure size 1872x216 with 2 Axes>"
            ],
            "image/png": "[encoded data removed]"
          },
          "metadata": {
            "needs_background": "light"
          }
        }
      ]
    },
    {
      "cell_type": "code",
      "source": [
        "num_rows = 5\n",
        "num_cols = 2\n",
        "num_images = num_rows*num_cols\n",
        "plt.figure(figsize=(2*5*num_cols, 2*num_rows))\n",
        "for i in range(num_images):\n",
        "  plt.subplot(num_rows, 2*num_cols, 2*i+1)\n",
        "  plot_image(i, predictions[i], y_test, X_test, classes)\n",
        "  plt.subplot(num_rows, 2*num_cols, 2*i+2)  \n",
        "  plot_value_array(i, predictions[i], y_test, len(classes))\n",
        "  _ = plt.xticks(range(36), classes, rotation=0) \n",
        "\n",
        "plt.tight_layout()\n",
        "\n",
        "plt.show()"
      ],
      "metadata": {
        "colab": {
          "base_uri": "https://localhost:8080/",
          "height": 729
        },
        "id": "3FBusuGT1H6q",
        "outputId": "294160b0-d734-49e0-c027-89bf073ffb8a"
      },
      "execution_count": 236,
      "outputs": [
        {
          "output_type": "display_data",
          "data": {
            "text/plain": [
              "<Figure size 1440x720 with 20 Axes>"
            ],
            "image/png": "[encoded data removed]"
          },
          "metadata": {
            "needs_background": "light"
          }
        }
      ]
    },
    {
      "cell_type": "markdown",
      "source": [
        "### **ВЫВОД**\n",
        "\n",
        "С помощью нейронной сети удалось добиться точности на тесте в **0.5905**. На трейне точность составила **0.8644**. Вероятно, есть момент переобучения, так как разрыв довольно большой между значениями на трейне и тесте."
      ],
      "metadata": {
        "id": "mc8dtGGGNjRa"
      }
    }
  ]
}