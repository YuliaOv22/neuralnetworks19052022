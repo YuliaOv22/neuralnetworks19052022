{
  "nbformat": 4,
  "nbformat_minor": 0,
  "metadata": {
    "colab": {
      "name": "HW3.ipynb",
      "provenance": [],
      "collapsed_sections": []
    },
    "kernelspec": {
      "name": "python3",
      "display_name": "Python 3"
    },
    "language_info": {
      "name": "python"
    },
    "accelerator": "GPU"
  },
  "cells": [
    {
      "cell_type": "markdown",
      "source": [
        "# **Домашнее задание**"
      ],
      "metadata": {
        "id": "ycElwFj_RBys"
      }
    },
    {
      "cell_type": "markdown",
      "source": [
        "Даны два массива с рукописными буквами и с характеристиками вина. \n",
        "\n",
        "Выбрать датасет, возможно, предварительно обработать, создать модель, обучить и проверить точность на тестовом датасете. Напишите свои мысли по поводу результатов.\n",
        "\n",
        "При желании можно рассмотреть оба датасета, можете попробовать применить другие методы машинного обучения, известные вам, и сравнить результаты обучения."
      ],
      "metadata": {
        "id": "hKSMbdubuNN2"
      }
    },
    {
      "cell_type": "code",
      "source": [
        "# !pip install tensorflow == 2.7.0"
      ],
      "metadata": {
        "id": "COPGj7j3uek-"
      },
      "execution_count": 395,
      "outputs": []
    },
    {
      "cell_type": "code",
      "source": [
        "# Импорт библиотек\n",
        "\n",
        "import numpy as np\n",
        "from numpy import where\n",
        "import matplotlib.pyplot as plt\n",
        "import random as python_random\n",
        "import tensorflow as tf\n",
        "from tensorflow import keras\n",
        "from tensorflow.keras.models import Sequential\n",
        "from tensorflow.keras.layers import Dense\n",
        "from sklearn.model_selection import train_test_split\n",
        "from tensorflow.keras.layers import Normalization\n",
        "from keras.utils.vis_utils import plot_model\n",
        "from sklearn.linear_model import LogisticRegression\n",
        "from sklearn.pipeline import make_pipeline\n",
        "from sklearn.preprocessing import StandardScaler\n",
        "from sklearn.datasets import load_wine\n",
        "\n",
        "print(f'Tensorflow version: {tf.__version__}')"
      ],
      "metadata": {
        "colab": {
          "base_uri": "https://localhost:8080/"
        },
        "id": "VJg90blIf6Sh",
        "outputId": "dfb897cc-c8d4-4868-f997-bd03f80c5571"
      },
      "execution_count": 396,
      "outputs": [
        {
          "output_type": "stream",
          "name": "stdout",
          "text": [
            "Tensorflow version: 2.8.2\n"
          ]
        }
      ]
    },
    {
      "cell_type": "code",
      "source": [
        "# Вспомогательные функции\n",
        "\n",
        "# Фиксирование случайных значений\n",
        "def randomstate(seed=42):\n",
        "  np.random.seed(seed)\n",
        "  tf.random.set_seed(seed)\n",
        "\n",
        "# Построение графика для изображения\n",
        "def plot_image(i, predictions_array, true_label, img, labels_name):\n",
        "  predictions_array, true_label, img = predictions_array, true_label[i], img[i]\n",
        "  plt.grid(False)\n",
        "  plt.xticks([])\n",
        "  plt.yticks([])\n",
        "\n",
        "  plt.imshow(img, cmap=plt.cm.binary)\n",
        "\n",
        "  predicted_label = np.argmax(predictions_array)\n",
        "  if predicted_label == true_label:\n",
        "    color = 'blue'\n",
        "  else:\n",
        "    color = 'red'\n",
        "\n",
        "  plt.xlabel(\"{} {:2.0f}% ({})\".format(labels_name[predicted_label],\n",
        "                                100*np.max(predictions_array),\n",
        "                                labels_name[true_label]),\n",
        "                                color=color)\n",
        "\n",
        "# Построение графика для визуализации правильных ответов с определенной вероятностью для изображений\n",
        "def plot_value_array(i, predictions_array, true_label, len_labels):\n",
        "  predictions_array, true_label = predictions_array, true_label[i]\n",
        "  plt.grid(False)\n",
        "  plt.xticks(range(len_labels))\n",
        "  plt.yticks([])\n",
        "  thisplot = plt.bar(range(len_labels), predictions_array, color=\"#777777\")\n",
        "  plt.ylim([0, 1])\n",
        "  predicted_label = np.argmax(predictions_array)\n",
        "\n",
        "  thisplot[predicted_label].set_color('red')\n",
        "  thisplot[true_label].set_color('blue')\n",
        "\n",
        "# График сравнения распределения классов для датасета с вином\n",
        "def plot_for_wine(X_test, y_test, y_pred):\n",
        "  plt.subplot(221)\n",
        "  for class_value in range(3):\n",
        "    row_ix = where(y_test == class_value)\n",
        "    plt.scatter(X_test[row_ix, 0], X_test[row_ix, 1])\n",
        "  plt.title('Test labels')\n",
        "\n",
        "  plt.subplot(222)\n",
        "  for class_value in range(3):\n",
        "    row_ix = where(y_pred == class_value)\n",
        "    plt.scatter(X_test[row_ix, 0], X_test[row_ix, 1])\n",
        "  plt.title('Predict labels')\n",
        "\n",
        "  plt.show()"
      ],
      "metadata": {
        "id": "bQhf3m1pOX0L"
      },
      "execution_count": 397,
      "outputs": []
    },
    {
      "cell_type": "markdown",
      "source": [
        "# Датасет с винами"
      ],
      "metadata": {
        "id": "M72ajz7tRQuN"
      }
    },
    {
      "cell_type": "markdown",
      "source": [
        "https://scikit-learn.org/stable/modules/generated/sklearn.datasets.load_wine.html#sklearn.datasets.load_wine"
      ],
      "metadata": {
        "id": "089ZkMffRYu6"
      }
    },
    {
      "cell_type": "markdown",
      "source": [
        "### **ДАННЫЕ**"
      ],
      "metadata": {
        "id": "GYDoQL4zrk7Z"
      }
    },
    {
      "cell_type": "code",
      "source": [
        "data = load_wine()"
      ],
      "metadata": {
        "id": "yXhssEenSe8S"
      },
      "execution_count": 398,
      "outputs": []
    },
    {
      "cell_type": "code",
      "source": [
        "list(data.target_names)"
      ],
      "metadata": {
        "id": "DTyfGtPIRjbP",
        "colab": {
          "base_uri": "https://localhost:8080/"
        },
        "outputId": "bf9cc373-dc0b-4f74-e267-a8bf4f73f2e0"
      },
      "execution_count": 399,
      "outputs": [
        {
          "output_type": "execute_result",
          "data": {
            "text/plain": [
              "['class_0', 'class_1', 'class_2']"
            ]
          },
          "metadata": {},
          "execution_count": 399
        }
      ]
    },
    {
      "cell_type": "code",
      "source": [
        "data.feature_names"
      ],
      "metadata": {
        "id": "tvnxIsLpRQGC",
        "colab": {
          "base_uri": "https://localhost:8080/"
        },
        "outputId": "5f767fe8-9416-4efb-d3a4-6ebeca0c97da"
      },
      "execution_count": 400,
      "outputs": [
        {
          "output_type": "execute_result",
          "data": {
            "text/plain": [
              "['alcohol',\n",
              " 'malic_acid',\n",
              " 'ash',\n",
              " 'alcalinity_of_ash',\n",
              " 'magnesium',\n",
              " 'total_phenols',\n",
              " 'flavanoids',\n",
              " 'nonflavanoid_phenols',\n",
              " 'proanthocyanins',\n",
              " 'color_intensity',\n",
              " 'hue',\n",
              " 'od280/od315_of_diluted_wines',\n",
              " 'proline']"
            ]
          },
          "metadata": {},
          "execution_count": 400
        }
      ]
    },
    {
      "cell_type": "code",
      "source": [
        "data.data.shape, data.target.shape"
      ],
      "metadata": {
        "id": "F6E3WMc2Rl0y",
        "colab": {
          "base_uri": "https://localhost:8080/"
        },
        "outputId": "543d0cd3-fc4d-49a1-e7bc-c1e8c463760d"
      },
      "execution_count": 401,
      "outputs": [
        {
          "output_type": "execute_result",
          "data": {
            "text/plain": [
              "((178, 13), (178,))"
            ]
          },
          "metadata": {},
          "execution_count": 401
        }
      ]
    },
    {
      "cell_type": "code",
      "source": [
        "X_train, X_test, y_train, y_test = train_test_split(data.data, data.target, test_size=0.25, shuffle=True, random_state=0)"
      ],
      "metadata": {
        "id": "YZqtD7GFRsnQ"
      },
      "execution_count": 402,
      "outputs": []
    },
    {
      "cell_type": "code",
      "source": [
        "X_train.shape, X_test.shape, y_train.shape, y_test.shape"
      ],
      "metadata": {
        "id": "ZI_B1C6FSYFu",
        "colab": {
          "base_uri": "https://localhost:8080/"
        },
        "outputId": "5cfa7d10-c029-4221-91b0-02d23757fdb0"
      },
      "execution_count": 403,
      "outputs": [
        {
          "output_type": "execute_result",
          "data": {
            "text/plain": [
              "((133, 13), (45, 13), (133,), (45,))"
            ]
          },
          "metadata": {},
          "execution_count": 403
        }
      ]
    },
    {
      "cell_type": "code",
      "source": [
        "print(X_train.shape, len(y_train), y_train[:10], sep='\\n')"
      ],
      "metadata": {
        "colab": {
          "base_uri": "https://localhost:8080/"
        },
        "id": "7lScTbquQaeU",
        "outputId": "fdbc413e-07a4-4867-aa45-344b44099419"
      },
      "execution_count": 404,
      "outputs": [
        {
          "output_type": "stream",
          "name": "stdout",
          "text": [
            "(133, 13)\n",
            "133\n",
            "[0 2 1 2 0 2 2 0 2 0]\n"
          ]
        }
      ]
    },
    {
      "cell_type": "code",
      "source": [
        "print(X_test.shape, len(y_test), y_test[:10], sep='\\n')"
      ],
      "metadata": {
        "colab": {
          "base_uri": "https://localhost:8080/"
        },
        "id": "v-1qvbvMQakv",
        "outputId": "bb63d320-3cbd-479f-c659-8aed9403cd9b"
      },
      "execution_count": 405,
      "outputs": [
        {
          "output_type": "stream",
          "name": "stdout",
          "text": [
            "(45, 13)\n",
            "45\n",
            "[0 2 1 0 1 1 0 2 1 1]\n"
          ]
        }
      ]
    },
    {
      "cell_type": "code",
      "source": [
        "# Нормализация данных\n",
        "\n",
        "normalizer = Normalization(axis=-1)\n",
        "normalizer.adapt(X_train)\n",
        "\n",
        "normalized_data = normalizer(X_train)\n",
        "print(\"var: %.4f\" % np.var(normalized_data))\n",
        "print(\"mean: %.4f\" % np.mean(normalized_data))"
      ],
      "metadata": {
        "colab": {
          "base_uri": "https://localhost:8080/"
        },
        "id": "X3nmOKCzjn5c",
        "outputId": "50865a72-97c1-470b-d476-f3387b835f5c"
      },
      "execution_count": 406,
      "outputs": [
        {
          "output_type": "stream",
          "name": "stdout",
          "text": [
            "var: 1.0000\n",
            "mean: 0.0000\n"
          ]
        }
      ]
    },
    {
      "cell_type": "code",
      "source": [
        "# График распределения классов\n",
        "\n",
        "for class_value in range(3):\n",
        "\trow_ix = where(y_train == class_value)\n",
        "\tplt.scatter(X_train[row_ix, 0], X_train[row_ix, 1])\n",
        "\n",
        "plt.title('Train labels')\n",
        "plt.show()"
      ],
      "metadata": {
        "colab": {
          "base_uri": "https://localhost:8080/",
          "height": 281
        },
        "id": "a8C--Vw_VqfY",
        "outputId": "1482cbd8-8989-47b0-b4a5-a0c4803f9e9d"
      },
      "execution_count": 407,
      "outputs": [
        {
          "output_type": "display_data",
          "data": {
            "text/plain": [
              "<Figure size 432x288 with 1 Axes>"
            ],
            "image/png": "[encoded data removed]"
          },
          "metadata": {
            "needs_background": "light"
          }
        }
      ]
    },
    {
      "cell_type": "markdown",
      "source": [
        "### **ОБУЧЕНИЕ НЕЙРОННОЙ СЕТИ**"
      ],
      "metadata": {
        "id": "btAWmKGzrrEi"
      }
    },
    {
      "cell_type": "code",
      "source": [
        "# Создание модели\n",
        "\n",
        "randomstate()\n",
        "\n",
        "model_w = keras.Sequential([\n",
        "    tf.keras.layers.InputLayer(input_shape=(13,)),\n",
        "    keras.layers.Dense(90, activation='tanh'),\n",
        "    keras.layers.Dense(3)\n",
        "])\n",
        "\n",
        "model_w.compile(optimizer=tf.keras.optimizers.Adam(learning_rate=0.001),\n",
        "                 loss=tf.keras.losses.SparseCategoricalCrossentropy(from_logits=True),\n",
        "                 metrics=['accuracy'])\n"
      ],
      "metadata": {
        "id": "D1dM8YW_Qaqf"
      },
      "execution_count": 408,
      "outputs": []
    },
    {
      "cell_type": "code",
      "source": [
        "model_w.summary()"
      ],
      "metadata": {
        "colab": {
          "base_uri": "https://localhost:8080/"
        },
        "id": "kSycXbDcRE1M",
        "outputId": "bc53f93e-4b5c-422d-dcb4-bf905010ec1a"
      },
      "execution_count": 409,
      "outputs": [
        {
          "output_type": "stream",
          "name": "stdout",
          "text": [
            "Model: \"sequential_44\"\n",
            "_________________________________________________________________\n",
            " Layer (type)                Output Shape              Param #   \n",
            "=================================================================\n",
            " dense_68 (Dense)            (None, 90)                1260      \n",
            "                                                                 \n",
            " dense_69 (Dense)            (None, 3)                 273       \n",
            "                                                                 \n",
            "=================================================================\n",
            "Total params: 1,533\n",
            "Trainable params: 1,533\n",
            "Non-trainable params: 0\n",
            "_________________________________________________________________\n"
          ]
        }
      ]
    },
    {
      "cell_type": "code",
      "source": [
        "hstr = model_w.fit(X_train, y_train, validation_split=0.2, epochs=7, verbose=2)"
      ],
      "metadata": {
        "colab": {
          "base_uri": "https://localhost:8080/"
        },
        "id": "1uUarDmYRE66",
        "outputId": "52fdb56e-cb0f-410a-c0d8-f3c3dc0af8a8"
      },
      "execution_count": 410,
      "outputs": [
        {
          "output_type": "stream",
          "name": "stdout",
          "text": [
            "Epoch 1/7\n",
            "4/4 - 0s - loss: 1.2907 - accuracy: 0.3396 - val_loss: 1.2097 - val_accuracy: 0.2963 - 453ms/epoch - 113ms/step\n",
            "Epoch 2/7\n",
            "4/4 - 0s - loss: 1.0232 - accuracy: 0.4623 - val_loss: 1.0292 - val_accuracy: 0.4444 - 27ms/epoch - 7ms/step\n",
            "Epoch 3/7\n",
            "4/4 - 0s - loss: 0.9146 - accuracy: 0.5849 - val_loss: 0.9457 - val_accuracy: 0.4815 - 24ms/epoch - 6ms/step\n",
            "Epoch 4/7\n",
            "4/4 - 0s - loss: 0.8544 - accuracy: 0.7170 - val_loss: 0.9302 - val_accuracy: 0.6667 - 27ms/epoch - 7ms/step\n",
            "Epoch 5/7\n",
            "4/4 - 0s - loss: 0.8249 - accuracy: 0.7453 - val_loss: 0.9489 - val_accuracy: 0.6296 - 31ms/epoch - 8ms/step\n",
            "Epoch 6/7\n",
            "4/4 - 0s - loss: 0.7849 - accuracy: 0.7170 - val_loss: 0.9093 - val_accuracy: 0.5926 - 31ms/epoch - 8ms/step\n",
            "Epoch 7/7\n",
            "4/4 - 0s - loss: 0.7630 - accuracy: 0.7547 - val_loss: 0.8415 - val_accuracy: 0.6296 - 29ms/epoch - 7ms/step\n"
          ]
        }
      ]
    },
    {
      "cell_type": "markdown",
      "source": [
        "### **ОЦЕНКА**"
      ],
      "metadata": {
        "id": "_wolZWyOrvHQ"
      }
    },
    {
      "cell_type": "code",
      "source": [
        "# Оценка модели на тесте\n",
        "\n",
        "model_w.evaluate(X_test, y_test)"
      ],
      "metadata": {
        "colab": {
          "base_uri": "https://localhost:8080/"
        },
        "id": "faLQJKDcRFAD",
        "outputId": "e11a30ee-21ee-4ff3-9245-f686b647d6ce"
      },
      "execution_count": 411,
      "outputs": [
        {
          "output_type": "stream",
          "name": "stdout",
          "text": [
            "2/2 [==============================] - 0s 6ms/step - loss: 0.6967 - accuracy: 0.8222\n"
          ]
        },
        {
          "output_type": "execute_result",
          "data": {
            "text/plain": [
              "[0.6966922283172607, 0.8222222328186035]"
            ]
          },
          "metadata": {},
          "execution_count": 411
        }
      ]
    },
    {
      "cell_type": "markdown",
      "source": [
        "### **ПРЕДСКАЗАНИЯ**"
      ],
      "metadata": {
        "id": "EOzrSUVsr1kx"
      }
    },
    {
      "cell_type": "code",
      "source": [
        "probability_model = tf.keras.Sequential([model_w, \n",
        "                                         tf.keras.layers.Softmax()])\n",
        "predictions = probability_model.predict(X_test)"
      ],
      "metadata": {
        "id": "rOsnw1kvRFFE"
      },
      "execution_count": 412,
      "outputs": []
    },
    {
      "cell_type": "code",
      "source": [
        "print(predictions[0],\n",
        "      np.argmax(predictions[0]),\n",
        "      y_test[0],\n",
        "      sep='\\n')"
      ],
      "metadata": {
        "colab": {
          "base_uri": "https://localhost:8080/"
        },
        "id": "pQ06q4ipRFKe",
        "outputId": "022088a0-a4f8-4a90-e266-5f4bc57a563d"
      },
      "execution_count": 413,
      "outputs": [
        {
          "output_type": "stream",
          "name": "stdout",
          "text": [
            "[0.5474023  0.2936804  0.15891728]\n",
            "0\n",
            "0\n"
          ]
        }
      ]
    },
    {
      "cell_type": "code",
      "source": [
        "y_pred = np.array([np.argmax(predictions[i]) for i in range(predictions.shape[0])])"
      ],
      "metadata": {
        "id": "2Q8-zfTfsih6"
      },
      "execution_count": 414,
      "outputs": []
    },
    {
      "cell_type": "markdown",
      "source": [
        "### **ВИЗУАЛИЗАЦИЯ**"
      ],
      "metadata": {
        "id": "V5qLdLBDr9w1"
      }
    },
    {
      "cell_type": "code",
      "source": [
        "# График распределения классов на реальных ответах и предсказаниях\n",
        "\n",
        "plt.figure(figsize=(10, 8))\n",
        "plot_for_wine(X_test, y_test, y_pred)"
      ],
      "metadata": {
        "colab": {
          "base_uri": "https://localhost:8080/",
          "height": 262
        },
        "id": "_pKJkX8hptAe",
        "outputId": "796b8cd9-758a-458a-a867-18ab5c68637a"
      },
      "execution_count": 415,
      "outputs": [
        {
          "output_type": "display_data",
          "data": {
            "text/plain": [
              "<Figure size 720x576 with 2 Axes>"
            ],
            "image/png": "[encoded data removed]"
          },
          "metadata": {
            "needs_background": "light"
          }
        }
      ]
    },
    {
      "cell_type": "markdown",
      "source": [
        "### **ОБУЧЕНИЕ ЛОГИСТИЧЕСКОЙ РЕГРЕССИИ**"
      ],
      "metadata": {
        "id": "lXLeZc2IsC9J"
      }
    },
    {
      "cell_type": "code",
      "source": [
        "# Создание модели\n",
        "\n",
        "pipe = make_pipeline(StandardScaler(), LogisticRegression())\n",
        "pipe.fit(X_train, y_train)\n",
        "\n",
        "pipe.score(X_test, y_test)"
      ],
      "metadata": {
        "colab": {
          "base_uri": "https://localhost:8080/"
        },
        "id": "2ggRN_PjRFns",
        "outputId": "0050e695-b441-41e5-e078-1cc4359113d2"
      },
      "execution_count": 416,
      "outputs": [
        {
          "output_type": "execute_result",
          "data": {
            "text/plain": [
              "1.0"
            ]
          },
          "metadata": {},
          "execution_count": 416
        }
      ]
    },
    {
      "cell_type": "code",
      "source": [
        "# Предсказание ответов\n",
        "\n",
        "y_pred = pipe.predict(X_test)"
      ],
      "metadata": {
        "id": "2GLw7VyDmJhS"
      },
      "execution_count": 417,
      "outputs": []
    },
    {
      "cell_type": "code",
      "source": [
        "# График распределения классов на реальных ответах и предсказаниях\n",
        "\n",
        "plt.figure(figsize=(10, 8))\n",
        "plot_for_wine(X_test, y_test, y_pred)"
      ],
      "metadata": {
        "colab": {
          "base_uri": "https://localhost:8080/",
          "height": 262
        },
        "id": "ZQRiKgpatKE-",
        "outputId": "a4c554b6-474d-4bde-e5a6-efdbc8beebb4"
      },
      "execution_count": 418,
      "outputs": [
        {
          "output_type": "display_data",
          "data": {
            "text/plain": [
              "<Figure size 720x576 with 2 Axes>"
            ],
            "image/png": "[encoded data removed]"
          },
          "metadata": {
            "needs_background": "light"
          }
        }
      ]
    },
    {
      "cell_type": "markdown",
      "source": [
        "### **ВЫВОД**\n",
        "\n",
        "С помощью нейронной сети удалось добиться точности на тесте в **0.8222**. При этом на трейне точность была ниже - **0.7547**.\n",
        "\n",
        "Предсказания с помощью логистической регрессии оказались лучше и показали 100% результат."
      ],
      "metadata": {
        "id": "_p1617odwPSc"
      }
    },
    {
      "cell_type": "markdown",
      "source": [
        "# Датасет с рукописными буквами"
      ],
      "metadata": {
        "id": "gAqpMfDiSkZ5"
      }
    },
    {
      "cell_type": "markdown",
      "source": [
        "https://www.tensorflow.org/datasets/catalog/binary_alpha_digits"
      ],
      "metadata": {
        "id": "m5rHCIuXVrmj"
      }
    },
    {
      "cell_type": "markdown",
      "source": [
        "### **ДАННЫЕ**"
      ],
      "metadata": {
        "id": "6XKcEH5rgPaG"
      }
    },
    {
      "cell_type": "code",
      "source": [
        "# Загрузка данных\n",
        "\n",
        "X = np.load('/content/drive/MyDrive/Colab Notebooks/Нейронные сети/binary_alpha_digits_images.npy')\n",
        "y = np.load('/content/drive/MyDrive/Colab Notebooks/Нейронные сети/binary_alpha_digits_labels.npy')\n",
        "\n",
        "# Выделение названий классов\n",
        "\n",
        "classes = [str(i) for i in range(10)] +  list('ABCDEFGHIJKLMNOPQRSTUVWXYZ')\n",
        "print(classes)"
      ],
      "metadata": {
        "id": "OMHXQi0ZSimY",
        "colab": {
          "base_uri": "https://localhost:8080/"
        },
        "outputId": "b59f1bf6-48ce-4d20-d382-a50406e05a82"
      },
      "execution_count": 419,
      "outputs": [
        {
          "output_type": "stream",
          "name": "stdout",
          "text": [
            "['0', '1', '2', '3', '4', '5', '6', '7', '8', '9', 'A', 'B', 'C', 'D', 'E', 'F', 'G', 'H', 'I', 'J', 'K', 'L', 'M', 'N', 'O', 'P', 'Q', 'R', 'S', 'T', 'U', 'V', 'W', 'X', 'Y', 'Z']\n"
          ]
        }
      ]
    },
    {
      "cell_type": "code",
      "source": [
        "len(classes)"
      ],
      "metadata": {
        "colab": {
          "base_uri": "https://localhost:8080/"
        },
        "id": "IyhIj9NjlB-O",
        "outputId": "6e434c84-1cfb-406e-da37-4679764a076f"
      },
      "execution_count": 420,
      "outputs": [
        {
          "output_type": "execute_result",
          "data": {
            "text/plain": [
              "36"
            ]
          },
          "metadata": {},
          "execution_count": 420
        }
      ]
    },
    {
      "cell_type": "code",
      "source": [
        "X.shape, y.shape"
      ],
      "metadata": {
        "colab": {
          "base_uri": "https://localhost:8080/"
        },
        "id": "kEauefpMfs1S",
        "outputId": "df0b33b9-c8b8-4ace-b237-05a71b121bce"
      },
      "execution_count": 421,
      "outputs": [
        {
          "output_type": "execute_result",
          "data": {
            "text/plain": [
              "((1404, 20, 16), (1404,))"
            ]
          },
          "metadata": {},
          "execution_count": 421
        }
      ]
    },
    {
      "cell_type": "code",
      "source": [
        "# Визуализация изображений\n",
        "\n",
        "fig, axes = plt.subplots(3, 5, figsize=(10, 5))\n",
        "fig.suptitle('binary alpha digits', fontsize=20)\n",
        "n = 0\n",
        "for ax in axes.flat:\n",
        "    ax.set_yticks([])\n",
        "    ax.set_xticks([])\n",
        "    ax.imshow(X[n], cmap=plt.cm.binary)\n",
        "    ax.set_xlabel(classes[y[n]])\n",
        "    n += 1"
      ],
      "metadata": {
        "id": "4nmyuGLyC3W9",
        "colab": {
          "base_uri": "https://localhost:8080/",
          "height": 353
        },
        "outputId": "12d1787f-873f-4154-e6f7-49515dbce5ea"
      },
      "execution_count": 422,
      "outputs": [
        {
          "output_type": "display_data",
          "data": {
            "text/plain": [
              "<Figure size 720x360 with 15 Axes>"
            ],
            "image/png": "[encoded data removed]"
          },
          "metadata": {}
        }
      ]
    },
    {
      "cell_type": "code",
      "source": [
        "# Деление на тренировочную и тестовую выборки\n",
        "\n",
        "X_train, X_test, y_train, y_test = train_test_split(X,\n",
        "                                                    y,\n",
        "                                                    test_size=0.33,\n",
        "                                                    random_state=42)"
      ],
      "metadata": {
        "id": "gcyqbdssdjPR"
      },
      "execution_count": 423,
      "outputs": []
    },
    {
      "cell_type": "code",
      "source": [
        "# Нормализация данных\n",
        "\n",
        "X_train = X_train / 255.0\n",
        "X_test = X_test / 255.0"
      ],
      "metadata": {
        "id": "E_L-X7MbaRIi"
      },
      "execution_count": 424,
      "outputs": []
    },
    {
      "cell_type": "code",
      "source": [
        "print(X_train.shape, len(y_train), [classes[i] for i in y_train[:10]], sep='\\n')"
      ],
      "metadata": {
        "id": "-KABm1zlKMi-",
        "colab": {
          "base_uri": "https://localhost:8080/"
        },
        "outputId": "0a6f60e1-9cc3-4f3c-f380-ccb148a274e7"
      },
      "execution_count": 425,
      "outputs": [
        {
          "output_type": "stream",
          "name": "stdout",
          "text": [
            "(940, 20, 16)\n",
            "940\n",
            "['C', 'Y', 'Y', 'G', 'V', '2', '6', 'T', 'O', 'G']\n"
          ]
        }
      ]
    },
    {
      "cell_type": "code",
      "source": [
        "print(X_test.shape, len(y_test), [classes[i] for i in y_test[:10]], sep='\\n')"
      ],
      "metadata": {
        "colab": {
          "base_uri": "https://localhost:8080/"
        },
        "id": "CGIneucFfXee",
        "outputId": "97b1f185-04c4-4ef2-fb1c-a8b4af5deb41"
      },
      "execution_count": 426,
      "outputs": [
        {
          "output_type": "stream",
          "name": "stdout",
          "text": [
            "(464, 20, 16)\n",
            "464\n",
            "['D', 'S', '4', 'A', 'V', 'O', 'G', 'L', 'V', '2']\n"
          ]
        }
      ]
    },
    {
      "cell_type": "markdown",
      "source": [
        "### **ОБУЧЕНИЕ НЕЙРОННОЙ СЕТИ**"
      ],
      "metadata": {
        "id": "zFoEH2eOgLIK"
      }
    },
    {
      "cell_type": "code",
      "source": [
        "# Создание модели\n",
        "\n",
        "randomstate()\n",
        "\n",
        "model_rb = keras.Sequential([\n",
        "    keras.layers.Flatten(input_shape=(20, 16)),\n",
        "    keras.layers.Dense(250, activation='tanh'),\n",
        "    keras.layers.Dense(200, activation='tanh'),\n",
        "    keras.layers.Dense(150, activation='tanh'),\n",
        "    keras.layers.Dense(36)\n",
        "])\n",
        "\n",
        "model_rb.compile(optimizer=tf.keras.optimizers.Adam(learning_rate=0.005),\n",
        "                 loss=tf.keras.losses.SparseCategoricalCrossentropy(from_logits=True),\n",
        "                 metrics=['accuracy'])\n"
      ],
      "metadata": {
        "id": "mP7Xm1Za-Bxw"
      },
      "execution_count": 427,
      "outputs": []
    },
    {
      "cell_type": "code",
      "source": [
        "model_rb.summary()"
      ],
      "metadata": {
        "colab": {
          "base_uri": "https://localhost:8080/"
        },
        "id": "z_zwM76RjQp0",
        "outputId": "8a4efd53-2ce0-48b9-cfec-82c3e76e1cdb"
      },
      "execution_count": 428,
      "outputs": [
        {
          "output_type": "stream",
          "name": "stdout",
          "text": [
            "Model: \"sequential_46\"\n",
            "_________________________________________________________________\n",
            " Layer (type)                Output Shape              Param #   \n",
            "=================================================================\n",
            " flatten_6 (Flatten)         (None, 320)               0         \n",
            "                                                                 \n",
            " dense_70 (Dense)            (None, 250)               80250     \n",
            "                                                                 \n",
            " dense_71 (Dense)            (None, 200)               50200     \n",
            "                                                                 \n",
            " dense_72 (Dense)            (None, 150)               30150     \n",
            "                                                                 \n",
            " dense_73 (Dense)            (None, 36)                5436      \n",
            "                                                                 \n",
            "=================================================================\n",
            "Total params: 166,036\n",
            "Trainable params: 166,036\n",
            "Non-trainable params: 0\n",
            "_________________________________________________________________\n"
          ]
        }
      ]
    },
    {
      "cell_type": "code",
      "source": [
        "hstr = model_rb.fit(X_train, y_train, validation_split=0.2, epochs=15, verbose=2)"
      ],
      "metadata": {
        "colab": {
          "base_uri": "https://localhost:8080/"
        },
        "id": "lTxtCQOijQtx",
        "outputId": "cdca615c-c55c-47f5-99ff-2cff6542a4f9"
      },
      "execution_count": 429,
      "outputs": [
        {
          "output_type": "stream",
          "name": "stdout",
          "text": [
            "Epoch 1/15\n",
            "24/24 - 1s - loss: 3.5186 - accuracy: 0.0585 - val_loss: 3.3265 - val_accuracy: 0.0851 - 608ms/epoch - 25ms/step\n",
            "Epoch 2/15\n",
            "24/24 - 0s - loss: 2.6306 - accuracy: 0.2128 - val_loss: 2.3368 - val_accuracy: 0.2713 - 99ms/epoch - 4ms/step\n",
            "Epoch 3/15\n",
            "24/24 - 0s - loss: 1.7666 - accuracy: 0.4269 - val_loss: 2.2328 - val_accuracy: 0.3457 - 88ms/epoch - 4ms/step\n",
            "Epoch 4/15\n",
            "24/24 - 0s - loss: 1.4450 - accuracy: 0.5173 - val_loss: 1.8980 - val_accuracy: 0.4309 - 96ms/epoch - 4ms/step\n",
            "Epoch 5/15\n",
            "24/24 - 0s - loss: 1.1840 - accuracy: 0.6117 - val_loss: 1.7302 - val_accuracy: 0.4894 - 106ms/epoch - 4ms/step\n",
            "Epoch 6/15\n",
            "24/24 - 0s - loss: 0.9744 - accuracy: 0.6729 - val_loss: 1.5855 - val_accuracy: 0.5372 - 96ms/epoch - 4ms/step\n",
            "Epoch 7/15\n",
            "24/24 - 0s - loss: 0.8502 - accuracy: 0.7287 - val_loss: 1.4781 - val_accuracy: 0.5532 - 93ms/epoch - 4ms/step\n",
            "Epoch 8/15\n",
            "24/24 - 0s - loss: 0.7633 - accuracy: 0.7314 - val_loss: 1.5807 - val_accuracy: 0.5426 - 91ms/epoch - 4ms/step\n",
            "Epoch 9/15\n",
            "24/24 - 0s - loss: 0.7598 - accuracy: 0.7181 - val_loss: 1.5076 - val_accuracy: 0.5213 - 95ms/epoch - 4ms/step\n",
            "Epoch 10/15\n",
            "24/24 - 0s - loss: 0.6646 - accuracy: 0.7606 - val_loss: 1.6138 - val_accuracy: 0.5479 - 106ms/epoch - 4ms/step\n",
            "Epoch 11/15\n",
            "24/24 - 0s - loss: 0.5732 - accuracy: 0.7846 - val_loss: 1.5644 - val_accuracy: 0.5426 - 94ms/epoch - 4ms/step\n",
            "Epoch 12/15\n",
            "24/24 - 0s - loss: 0.4208 - accuracy: 0.8590 - val_loss: 1.5044 - val_accuracy: 0.5904 - 98ms/epoch - 4ms/step\n",
            "Epoch 13/15\n",
            "24/24 - 0s - loss: 0.4057 - accuracy: 0.8524 - val_loss: 1.4677 - val_accuracy: 0.5904 - 102ms/epoch - 4ms/step\n",
            "Epoch 14/15\n",
            "24/24 - 0s - loss: 0.3796 - accuracy: 0.8590 - val_loss: 1.7190 - val_accuracy: 0.5798 - 87ms/epoch - 4ms/step\n",
            "Epoch 15/15\n",
            "24/24 - 0s - loss: 0.3798 - accuracy: 0.8644 - val_loss: 1.6950 - val_accuracy: 0.5745 - 90ms/epoch - 4ms/step\n"
          ]
        }
      ]
    },
    {
      "cell_type": "code",
      "source": [
        "plot_model(model_rb, show_shapes=True, show_layer_names=True)"
      ],
      "metadata": {
        "colab": {
          "base_uri": "https://localhost:8080/",
          "height": 644
        },
        "id": "Ntm6SCoQjQ0I",
        "outputId": "bac0bf7a-2fe9-4ebc-ea84-198d7ef71bb2"
      },
      "execution_count": 430,
      "outputs": [
        {
          "output_type": "execute_result",
          "data": {
            "text/plain": [
              "<IPython.core.display.Image object>"
            ],
            "image/png": "[encoded data removed]"
          },
          "metadata": {},
          "execution_count": 430
        }
      ]
    },
    {
      "cell_type": "markdown",
      "source": [
        "### **ОЦЕНКА КАЧЕСТВА**"
      ],
      "metadata": {
        "id": "aJM5Oz3ZFGnq"
      }
    },
    {
      "cell_type": "code",
      "source": [
        "# Оценка модели на тесте\n",
        "\n",
        "model_rb.evaluate(X_test, y_test)"
      ],
      "metadata": {
        "colab": {
          "base_uri": "https://localhost:8080/"
        },
        "id": "uOL7cLkBFM0m",
        "outputId": "046f7f4d-e5f0-4555-cc28-404bd6e55e5f"
      },
      "execution_count": 431,
      "outputs": [
        {
          "output_type": "stream",
          "name": "stdout",
          "text": [
            "15/15 [==============================] - 0s 2ms/step - loss: 1.5832 - accuracy: 0.5905\n"
          ]
        },
        {
          "output_type": "execute_result",
          "data": {
            "text/plain": [
              "[1.5832096338272095, 0.5905172228813171]"
            ]
          },
          "metadata": {},
          "execution_count": 431
        }
      ]
    },
    {
      "cell_type": "markdown",
      "source": [
        "### **РЕЗУЛЬТАТЫ**"
      ],
      "metadata": {
        "id": "uDogkKnZj5kT"
      }
    },
    {
      "cell_type": "code",
      "source": [
        "probability_model = tf.keras.Sequential([model_rb, \n",
        "                                         tf.keras.layers.Softmax()])\n",
        "predictions = probability_model.predict(X_test)"
      ],
      "metadata": {
        "id": "n31sPXpKkIkH"
      },
      "execution_count": 432,
      "outputs": []
    },
    {
      "cell_type": "code",
      "source": [
        "print(predictions[0],\n",
        "      np.argmax(predictions[0]),\n",
        "      y_test[0],\n",
        "      sep='\\n')"
      ],
      "metadata": {
        "id": "-qCnQH75kIov",
        "colab": {
          "base_uri": "https://localhost:8080/"
        },
        "outputId": "7da61beb-394f-4da9-8c52-73c2e191f395"
      },
      "execution_count": 433,
      "outputs": [
        {
          "output_type": "stream",
          "name": "stdout",
          "text": [
            "[8.1234276e-02 5.8665024e-09 1.6306436e-07 1.3357857e-05 4.0168288e-05\n",
            " 4.2211362e-08 4.8095603e-03 7.3376833e-07 4.8263905e-07 9.0889089e-06\n",
            " 6.1595342e-03 1.7112730e-02 7.1492739e-04 4.9769670e-01 4.0064145e-07\n",
            " 1.7083183e-05 4.7901831e-05 9.2391291e-04 4.5512940e-09 2.5996985e-06\n",
            " 1.2756807e-07 1.0039803e-05 3.0068852e-04 7.6384031e-06 9.2863813e-02\n",
            " 2.9707125e-01 2.4240767e-04 9.6572012e-06 6.2968832e-07 2.2521826e-08\n",
            " 6.8414403e-04 4.8195943e-06 1.5180729e-05 3.5279568e-10 3.9985878e-08\n",
            " 5.9131044e-06]\n",
            "13\n",
            "13\n"
          ]
        }
      ]
    },
    {
      "cell_type": "markdown",
      "source": [
        "### **ВИЗУАЛИЗАЦИЯ**"
      ],
      "metadata": {
        "id": "iWbTXcvO1DIZ"
      }
    },
    {
      "cell_type": "code",
      "source": [
        "plt.figure(figsize=(26,3))\n",
        "img = X_test[1]\n",
        "\n",
        "print(img.shape)\n",
        "# Add the image to a batch where it's the only member.\n",
        "img = (np.expand_dims(img, 0))\n",
        "\n",
        "print(img.shape)\n",
        "predictions_single = probability_model.predict(img)\n",
        "\n",
        "print(predictions_single)\n",
        "\n",
        "plot_value_array(1, predictions_single[0], y_test, len(classes))\n",
        "_ = plt.xticks(range(36), classes, rotation=0)"
      ],
      "metadata": {
        "colab": {
          "base_uri": "https://localhost:8080/",
          "height": 402
        },
        "id": "R1S5zMMT1Hw1",
        "outputId": "b8dd1c52-aecb-4574-d39c-dab978cd0eab"
      },
      "execution_count": 434,
      "outputs": [
        {
          "output_type": "stream",
          "name": "stdout",
          "text": [
            "(20, 16)\n",
            "(1, 20, 16)\n",
            "[[4.66589292e-08 2.01626463e-05 4.25586586e-06 1.75539259e-04\n",
            "  9.48878309e-08 7.68295884e-01 2.05149817e-08 7.98444475e-08\n",
            "  3.93562746e-04 4.18368791e-06 5.06292395e-08 1.42627498e-04\n",
            "  4.38495448e-07 1.20488778e-07 1.02054283e-01 1.09068467e-03\n",
            "  2.69894026e-05 1.99121164e-08 1.92907557e-03 1.49546063e-03\n",
            "  4.49072113e-09 1.81279756e-08 7.04642117e-12 2.42868670e-10\n",
            "  7.08991479e-08 9.13475873e-09 7.69091855e-07 5.78335005e-07\n",
            "  1.23379625e-01 9.64375446e-04 2.69318812e-09 8.68241656e-09\n",
            "  1.20421034e-10 4.71587754e-07 8.53767279e-09 2.06002769e-05]]\n"
          ]
        },
        {
          "output_type": "display_data",
          "data": {
            "text/plain": [
              "<Figure size 1872x216 with 1 Axes>"
            ],
            "image/png": "[encoded data removed]"
          },
          "metadata": {
            "needs_background": "light"
          }
        }
      ]
    },
    {
      "cell_type": "code",
      "source": [
        "i = 0\n",
        "plt.figure(figsize=(26,3))\n",
        "plt.subplot(1,2,1)\n",
        "plot_image(i, predictions[i], y_test, X_test, classes)\n",
        "plt.subplot(1,2,2)\n",
        "plot_value_array(i, predictions[i],  y_test, len(classes))\n",
        "_ = plt.xticks(range(36), classes, rotation=0)\n",
        "plt.show()\n",
        "\n",
        "i = 12\n",
        "plt.figure(figsize=(26,3))\n",
        "plt.subplot(1,2,1)\n",
        "plot_image(i, predictions[i], y_test, X_test, classes)\n",
        "plt.subplot(1,2,2)\n",
        "plot_value_array(i, predictions[i],  y_test, len(classes))\n",
        "_ = plt.xticks(range(36), classes, rotation=0)\n",
        "plt.show()\n"
      ],
      "metadata": {
        "colab": {
          "base_uri": "https://localhost:8080/",
          "height": 405
        },
        "id": "M8LFBgVq1H3W",
        "outputId": "d968adce-58cd-4269-a247-53f097754c34"
      },
      "execution_count": 435,
      "outputs": [
        {
          "output_type": "display_data",
          "data": {
            "text/plain": [
              "<Figure size 1872x216 with 2 Axes>"
            ],
            "image/png": "[encoded data removed]"
          },
          "metadata": {
            "needs_background": "light"
          }
        },
        {
          "output_type": "display_data",
          "data": {
            "text/plain": [
              "<Figure size 1872x216 with 2 Axes>"
            ],
            "image/png": "[encoded data removed]"
          },
          "metadata": {
            "needs_background": "light"
          }
        }
      ]
    },
    {
      "cell_type": "code",
      "source": [
        "num_rows = 5\n",
        "num_cols = 2\n",
        "num_images = num_rows*num_cols\n",
        "plt.figure(figsize=(2*5*num_cols, 2*num_rows))\n",
        "for i in range(num_images):\n",
        "  plt.subplot(num_rows, 2*num_cols, 2*i+1)\n",
        "  plot_image(i, predictions[i], y_test, X_test, classes)\n",
        "  plt.subplot(num_rows, 2*num_cols, 2*i+2)  \n",
        "  plot_value_array(i, predictions[i], y_test, len(classes))\n",
        "  _ = plt.xticks(range(36), classes, rotation=0) \n",
        "\n",
        "plt.tight_layout()\n",
        "\n",
        "plt.show()"
      ],
      "metadata": {
        "colab": {
          "base_uri": "https://localhost:8080/",
          "height": 729
        },
        "id": "3FBusuGT1H6q",
        "outputId": "bf248595-fa62-4885-85a1-01d65d5a8bcb"
      },
      "execution_count": 436,
      "outputs": [
        {
          "output_type": "display_data",
          "data": {
            "text/plain": [
              "<Figure size 1440x720 with 20 Axes>"
            ],
            "image/png": "[encoded data removed]"
          },
          "metadata": {
            "needs_background": "light"
          }
        }
      ]
    },
    {
      "cell_type": "markdown",
      "source": [
        "### **ВЫВОД**\n",
        "\n",
        "С помощью нейронной сети удалось добиться точности на тесте в **0.5905**. На трейне точность составила **0.8644**. Вероятно, есть момент переобучения, так как разрыв довольно большой между значениями на трейне и тесте."
      ],
      "metadata": {
        "id": "mc8dtGGGNjRa"
      }
    }
  ]
}